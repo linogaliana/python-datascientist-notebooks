{
 "cells": [
  {
   "cell_type": "markdown",
   "id": "f8c3a76c-01de-4c76-8b10-779f842e0325",
   "metadata": {},
   "source": [
    "# A propos de ce site\n",
    "\n",
    "Lino Galiana  \n",
    "2025-10-07\n",
    "\n",
    "Site web du cours [*Python pour la data science*](https://www.ensae.fr/courses/1425-python-pour-le-data-scientist)\n",
    "<a href=\"https://github.com/linogaliana/python-datascientist\" class=\"github\"><i class=\"fab fa-python\"></i></a>, une introduction à `Python` pour\n",
    "la deuxième année du cursus d’ingénieur de l’[`ENSAE`](https://www.ensae.fr/) (Master 1).\n",
    "\n",
    "<br>\n",
    "\n",
    "L’ensemble du contenu de ce groupe est librement disponible ici\n",
    "ou sur [`Github`](https://github.com/linogaliana/python-datascientist)\n",
    "<a href=\"https://github.com/linogaliana/python-datascientist\" class=\"github\"><i class=\"fab fa-github\"></i></a> et peut être testé\n",
    "sous forme de *notebooks* `Jupyter`.\n",
    "\n",
    "<br>"
   ]
  },
  {
   "cell_type": "raw",
   "id": "ed78e370-d2fc-4ecf-ae42-b8ef1b1fc97d",
   "metadata": {},
   "source": [
    "<details>"
   ]
  },
  {
   "cell_type": "raw",
   "id": "d3c02bb9-4325-43e9-9456-d79de71438b4",
   "metadata": {},
   "source": [
    "<summary>"
   ]
  },
  {
   "cell_type": "markdown",
   "id": "1e827a7d-eb45-4808-aa32-3bd770c2289d",
   "metadata": {},
   "source": [
    "Exemple avec l’introduction à `Pandas`"
   ]
  },
  {
   "cell_type": "raw",
   "id": "353d9d2f-cfd0-4e4d-af6c-08e9caff10a7",
   "metadata": {},
   "source": [
    "</summary>"
   ]
  },
  {
   "cell_type": "raw",
   "id": "fba9f435-71f5-443e-b615-13842c080d02",
   "metadata": {},
   "source": [
    "</details>"
   ]
  },
  {
   "cell_type": "raw",
   "id": "dd6432fe-bec5-4059-89a0-e5be67e47a53",
   "metadata": {},
   "source": [
    "<details>"
   ]
  },
  {
   "cell_type": "raw",
   "id": "c7974d79-d29a-4831-b510-bfe5e5ec4987",
   "metadata": {},
   "source": [
    "<summary>"
   ]
  },
  {
   "cell_type": "markdown",
   "id": "8d6df80d-c26d-48c1-9b4b-af2521d5e1eb",
   "metadata": {},
   "source": [
    "Au programme:"
   ]
  },
  {
   "cell_type": "raw",
   "id": "4098a962-1342-4f54-82b4-2ec16082d2cd",
   "metadata": {},
   "source": [
    "</summary>"
   ]
  },
  {
   "cell_type": "markdown",
   "id": "a1397171-1c4e-41b5-ae6b-eee13d9cd10d",
   "metadata": {},
   "source": [
    "Globalement, ce cours propose un contenu très complet pouvant autant\n",
    "satisfaire des débutants en\n",
    "*data science* que des personnes à la recherche de contenu plus avancé :\n",
    "<br>\n",
    "\n",
    "1.  **Manipulation de données** : manipulation de données standards (`Pandas`), données géographiques (`Geopandas`), récupération de données (webscraping, API)…\n",
    "2.  **Visualisation de données** : visualisations classiques (`Matplotlib`, `Seaborn`), cartographie, visualisations réactives (`Plotly`, `Folium`)\n",
    "3.  **Modélisation** : *machine learning* (`Scikit`), économétrie\n",
    "4.  **Traitement de données textuelles** (NLP): découverte de la tokenisation avec `NLTK` et `SpaCy`, modélisation…\n",
    "5.  **Introduction à la *data science* moderne** : *cloud computing*, `ElasticSearch`, intégration continue…\n",
    "\n",
    "L’ensemble du contenu de ce site s’appuie sur des **données\n",
    "ouvertes**, qu’il s’agisse de données françaises (principalement\n",
    "issues de la plateforme\n",
    "centralisatrice [`data.gouv`](https://www.data.gouv.fr) ou du site\n",
    "*web* de l’[Insee](https://www.insee.fr)) ou de données\n",
    "américaines. Le programme est présenté de manière linéaire dans la partie supérieure de cette page (👆️) ou de manière désordonnée ci-dessous (👇️).\n",
    "\n",
    "Un bon complément du contenu du site web est le cours que nous donnons avec Romain Avouac en dernière année de l’ENSAE plus tourné autour de la mise en production de projets *data science* : [https://ensae-reproductibilite.github.io/](https://ensae-reproductibilite.github.io/website/)"
   ]
  },
  {
   "cell_type": "raw",
   "id": "0dd10098-7d55-4aff-ad6a-cfce35e4666a",
   "metadata": {},
   "source": [
    "</details>"
   ]
  },
  {
   "cell_type": "markdown",
   "id": "f20b5f0b-2f40-4ddc-b62e-68c29d29a0c0",
   "metadata": {},
   "source": [
    ":::::\n",
    "\n",
    "![](https://minio.lab.sspcloud.fr/lgaliana/generative-art/pythonds/kiddos.png)\n",
    "\n",
    "::::\n",
    "\n",
    ":::"
   ]
  }
 ],
 "metadata": {
  "kernelspec": {
   "display_name": "Python 3",
   "language": "python",
   "name": "python3"
  }
 },
 "nbformat": 4,
 "nbformat_minor": 5
}

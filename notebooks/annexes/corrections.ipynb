{
 "cells": [
  {
   "cell_type": "markdown",
   "id": "0f276025-48db-4e31-b3c6-f087a876e92d",
   "metadata": {},
   "source": [
    "# Corrections\n",
    "\n",
    "Lino Galiana  \n",
    "2025-10-07"
   ]
  }
 ],
 "metadata": {
  "kernelspec": {
   "display_name": "Python 3",
   "language": "python",
   "name": "python3"
  }
 },
 "nbformat": 4,
 "nbformat_minor": 5
}

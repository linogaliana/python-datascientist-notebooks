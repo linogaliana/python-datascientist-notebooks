{
 "cells": [
  {
   "cell_type": "markdown",
   "id": "38f99b15-bf3b-468b-bff9-43944e9350b7",
   "metadata": {},
   "source": [
    "# Les nouveaux modes d’accès aux données : le format Parquet et les\n",
    "\n",
    "données sur le cloud\n",
    "\n",
    "Lino Galiana  \n",
    "2025-10-07\n",
    "\n",
    "> **Chapitre déplacé**\n",
    ">\n",
    "> Le programme du cours a été modifié. Ce chapitre se trouve maintenant dans la partie [Manipulation de données](../../content/manipulation/05_parquet_s3.qmd)"
   ]
  }
 ],
 "metadata": {
  "kernelspec": {
   "display_name": "Python 3",
   "language": "python",
   "name": "python3"
  }
 },
 "nbformat": 4,
 "nbformat_minor": 5
}

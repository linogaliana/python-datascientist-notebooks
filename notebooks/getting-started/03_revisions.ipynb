{
 "cells": [
  {
   "cell_type": "markdown",
   "id": "59fa2b8b-0576-4763-bc46-d1836f23ffa2",
   "metadata": {},
   "source": [
    "# Quelques exercices de rappels pour se remettre en selle\n",
    "\n",
    "Lino Galiana  \n",
    "2025-10-07\n",
    "\n",
    "Le contenu de cette page est disponible sur [le site web du cours](pythonds.linogaliana.fr/content/getting-started/04_revisions.html)"
   ]
  }
 ],
 "metadata": {
  "kernelspec": {
   "display_name": "Python 3",
   "language": "python",
   "name": "python3"
  }
 },
 "nbformat": 4,
 "nbformat_minor": 5
}

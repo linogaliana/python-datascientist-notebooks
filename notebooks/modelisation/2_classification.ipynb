{
 "cells": [
  {
   "cell_type": "markdown",
   "id": "398b6c11-0694-4df1-afbe-4c7531b9c4af",
   "metadata": {},
   "source": [
    "# Découverte de la classification avec la technique des SVM\n",
    "\n",
    "Lino Galiana  \n",
    "2025-10-07\n",
    "\n",
    "<div class=\"badge-container\"><div class=\"badge-text\">Pour essayer les exemples présents dans ce tutoriel :</div><a href=\"https://github.com/linogaliana/python-datascientist-notebooks/blob/main/notebooks/modelisation/2_classification.ipynb\" target=\"_blank\" rel=\"noopener\"><img src=\"https://img.shields.io/static/v1?logo=github&label=&message=View%20on%20GitHub&color=181717\" alt=\"View on GitHub\"></a>\n",
    "<a href=\"https://datalab.sspcloud.fr/launcher/ide/vscode-python?autoLaunch=true&name=«2_classification»&init.personalInit=«https%3A%2F%2Fraw.githubusercontent.com%2Flinogaliana%2Fpython-datascientist%2Fmain%2Fsspcloud%2Finit-vscode.sh»&init.personalInitArgs=«modelisation%202_classification%20correction»\" target=\"_blank\" rel=\"noopener\"><img src=\"https://custom-icon-badges.demolab.com/badge/SSP%20Cloud-Lancer_avec_VSCode-blue?logo=vsc&logoColor=white\" alt=\"Onyxia\"></a>\n",
    "<a href=\"https://datalab.sspcloud.fr/launcher/ide/jupyter-python?autoLaunch=true&name=«2_classification»&init.personalInit=«https%3A%2F%2Fraw.githubusercontent.com%2Flinogaliana%2Fpython-datascientist%2Fmain%2Fsspcloud%2Finit-jupyter.sh»&init.personalInitArgs=«modelisation%202_classification%20correction»\" target=\"_blank\" rel=\"noopener\"><img src=\"https://img.shields.io/badge/SSP%20Cloud-Lancer_avec_Jupyter-orange?logo=Jupyter&logoColor=orange\" alt=\"Onyxia\"></a>\n",
    "<a href=\"https://colab.research.google.com/github/linogaliana/python-datascientist-notebooks-colab//blob/main//notebooks/modelisation/2_classification.ipynb\" target=\"_blank\" rel=\"noopener\"><img src=\"https://colab.research.google.com/assets/colab-badge.svg\" alt=\"Open In Colab\"></a><br></div>\n",
    "\n",
    "# 1. Introduction\n",
    "\n",
    "Ce chapitre vise à présenter de manière très succincte le principe de l’entraînement de modèles dans un cadre de classification. L’objectif est d’illustrer la démarche à partir d’un algorithme dont le principe est assez intuitif. Il s’agit d’illustrer quelques uns des concepts évoqués dans les chapitres précédents, notamment ceux relatifs à l’entraînement d’un modèle. D’autres cours de votre scolarité vous permettront de découvrir d’autres algorithmes de classification et les limites de chaque technique.\n",
    "\n",
    "## 1.1 Données\n",
    "\n",
    "Ce chapitre utilise toujours le même jeu de données, présenté dans l’[introduction\n",
    "de cette partie](index.qmd) : les données de vote aux élections présidentielles américaines\n",
    "croisées à des variables sociodémographiques.\n",
    "Le code\n",
    "est disponible [sur Github](https://github.com/linogaliana/python-datascientist/blob/main/content/modelisation/get_data.py)."
   ]
  },
  {
   "cell_type": "code",
   "execution_count": null,
   "id": "a3a17451",
   "metadata": {},
   "outputs": [],
   "source": [
    "!pip install --upgrade xlrd #colab bug verson xlrd\n",
    "!pip install geopandas"
   ]
  },
  {
   "cell_type": "code",
   "execution_count": null,
   "id": "ef285a09",
   "metadata": {},
   "outputs": [],
   "source": [
    "import requests\n",
    "\n",
    "url = 'https://raw.githubusercontent.com/linogaliana/python-datascientist/main/content/modelisation/get_data.py'\n",
    "r = requests.get(url, allow_redirects=True)\n",
    "open('getdata.py', 'wb').write(r.content)\n",
    "\n",
    "import getdata\n",
    "votes = getdata.create_votes_dataframes()"
   ]
  },
  {
   "cell_type": "markdown",
   "id": "e6c519da-0f6f-407e-839a-7c8bc66e9376",
   "metadata": {},
   "source": [
    "## 1.2 La méthode des *SVM* (*Support Vector Machines*)\n",
    "\n",
    "Les SVM (*Support Vector Machines*) font partie de la boîte à outil traditionnelle des *data scientists*.\n",
    "Le principe de cette technique est relativement intuitif grâce à son interprétation géométrique.\n",
    "Il s’agit de trouver une droite, avec des marges (les supports) qui discrimine au mieux le nuage de points de nos données.\n",
    "Bien-sûr, dans la vraie vie, il est rare d’avoir des nuages de points bien ordonnés pour pouvoir les séparer par une droite. Mais une projection adéquate (un noyau ou *kernel*) peut arranger des données pour permettre de discriminer les données."
   ]
  },
  {
   "cell_type": "raw",
   "id": "16ffc9f5-6252-4940-8e7a-e994b8d29983",
   "metadata": {},
   "source": [
    "<img src=\"https://scikit-learn.org/stable/_images/sphx_glr_plot_iris_svc_001.png\" alt=\"Iris SVC Plot\" width=\"300px\">"
   ]
  },
  {
   "cell_type": "markdown",
   "id": "9bcf42af-3b80-429d-ae1c-96772d0b9318",
   "metadata": {},
   "source": [
    "> **Formalisation mathématique**\n",
    ">\n",
    "> Les SVM sont l’une des méthodes de *machine learning* les plus intuitives\n",
    "> du fait de l’interprétation géométrique simple de la méthode. Il s’agit\n",
    "> aussi d’un des algorithmes de *machine learning* à la formalisation\n",
    "> la moins complexe pour les praticiens ayant des notions en statistique\n",
    "> traditionnelle. Cette note revient dessus. Néanmoins,\n",
    "> celle-ci n’est pas nécessaire à la compréhension du chapitre.\n",
    "> En *machine learning*, plus que les détails mathématiques, l’important\n",
    "> est d’avoir des intuitions.\n",
    ">\n",
    "> L’objectif des SVM est, rappelons-le, de trouver un hyperplan qui permette\n",
    "> de séparer les différentes classes au mieux. Par exemple, dans un espace\n",
    "> à deux dimensions, il s’agit de trouver une droite avec des marges\n",
    "> qui permette de séparer au mieux l’espace en partie avec\n",
    "> des *labels* homogènes.\n",
    ">\n",
    "> On peut, sans perdre de généralité,\n",
    "> supposer que le problème consiste à supposer l’existence d’une loi de probabilité $\\mathbb{P}(x,y)$ ($\\mathbb{P} \\to \\{-1,1\\}$) qui est inconnue. Le problème de discrimination\n",
    "> vise à construire un estimateur de la fonction de décision idéale qui minimise la probabilité d’erreur. Autrement dit\n",
    "\n",
    "# 2. Application\n",
    "\n",
    "Pour appliquer un modèle de classification, il nous faut\n",
    "trouver une variable dichotomique. Le choix naturel est\n",
    "de prendre la variable dichotomique qu’est la victoire ou\n",
    "défaite d’un des partis.\n",
    "\n",
    "Même si les Républicains ont perdu en 2020, ils l’ont emporté\n",
    "dans plus de comtés (moins peuplés). Nous allons considérer\n",
    "que la victoire des Républicains est notre *label* 1 et la défaite *0*."
   ]
  },
  {
   "cell_type": "code",
   "execution_count": null,
   "id": "182a9116",
   "metadata": {},
   "outputs": [],
   "source": [
    "from sklearn import svm\n",
    "import sklearn.metrics\n",
    "from sklearn.model_selection import train_test_split\n",
    "from sklearn.model_selection import cross_val_score\n",
    "import matplotlib.pyplot as plt"
   ]
  },
  {
   "cell_type": "markdown",
   "id": "76c11135-94f7-4e82-b655-9ddc9d519c90",
   "metadata": {},
   "source": [
    "> **Exercice 1 : Premier algorithme de classification**\n",
    ">\n",
    "> 1.  Créer une variable *dummy* appelée `y` dont la valeur vaut 1 quand les républicains l’emportent.\n",
    "> 2.  En utilisant la fonction prête à l’emploi nommée `train_test_split` de la librairie `sklearn.model_selection`,\n",
    ">     créer des échantillons de test (20 % des observations) et d’estimation (80 %) avec comme *features* : `'Unemployment_rate_2019', 'Median_Household_Income_2021', 'Percent of adults with less than a high school diploma, 2018-22', \"Percent of adults with a bachelor's degree or higher, 2018-22\"` et comme *label* la variable `y`.\n",
    ">\n",
    "> *Note: Il se peut que vous ayez le warning suivant :*\n",
    ">\n",
    "> > A column-vector y was passed when a 1d array was expected. Please change the shape of y to (n_samples, ), for example using ravel()\n",
    ">\n",
    "> *Note : Pour éviter ce warning à chaque fois que vous estimez votre modèle, vous pouvez utiliser `DataFrame[['y']].values.ravel()` plutôt que `DataFrame[['y']]` lorsque vous constituez vos échantillons.*\n",
    ">\n",
    "> 1.  Entraîner un classifieur SVM avec comme paramètre de régularisation `C = 1`. Regarder les mesures de performance suivante : `accuracy`, `f1`, `recall` et `precision`.\n",
    ">\n",
    "> 2.  Vérifier la matrice de confusion : vous devriez voir que malgré des scores en apparence pas si mauvais, il y a un problème notable.\n",
    ">\n",
    "> 3.  Refaire les questions précédentes avec des variables normalisées. Le résultat est-il différent ?\n",
    ">\n",
    "> 4.  Changer de variables *x*. Utiliser uniquement le résultat passé du vote démocrate (année 2016) et le revenu. Les variables en question sont `share_2016_republican` et `Median_Household_Income_2021`. Regarder les résultats, notamment la matrice de confusion.\n",
    ">\n",
    "> 5.  \\[OPTIONNEL\\] Faire une 5-fold validation croisée pour déterminer le paramètre *C* idéal.\n",
    "\n",
    "On obtient donc un ensemble de *features* d’entraînement ayant cette forme:"
   ]
  },
  {
   "cell_type": "markdown",
   "id": "6191954a-0dfd-43b8-8011-da2223deb8ec",
   "metadata": {},
   "source": [
    "Et les *labels* associés sont les suivants:"
   ]
  },
  {
   "cell_type": "markdown",
   "id": "6b6054f3-539b-4048-a120-125f2b39d52c",
   "metadata": {},
   "source": [
    "A l’issue de la question 3, notre classifieur manque totalement les labels 0, qui sont minoritaires. Parmi les raisons possibles : l’échelle des variables. Le revenu, notamment, a une distribution qui peut écraser celle des autres variables, dans un modèle linéaire. Il faut donc, a minima, standardiser les variables, ce qui est l’objet de la question 4."
   ]
  },
  {
   "cell_type": "markdown",
   "id": "9d3c8351-7de2-42ac-82fc-540f290187bd",
   "metadata": {},
   "source": [
    "Standardiser les variables n’apporte finalement pas de gain :"
   ]
  },
  {
   "cell_type": "markdown",
   "id": "61c82638-2bca-4659-82ea-a11b0003beb3",
   "metadata": {},
   "source": [
    "Il faut donc aller plus loin : le problème ne vient pas de l’échelle mais du choix des variables. C’est pour cette raison que l’étape de sélection de variables est cruciale et qu’un chapitre y est consacré.\n",
    "\n",
    "À l’issue de la question 6, le nouveau classifieur devrait avoir les performances suivantes :"
   ]
  }
 ],
 "metadata": {
  "kernelspec": {
   "display_name": "Python 3 (ipykernel)",
   "language": "python",
   "name": "python3",
   "path": "/home/runner/work/python-datascientist/python-datascientist/.venv/share/jupyter/kernels/python3"
  },
  "language_info": {
   "codemirror_mode": {
    "name": "ipython",
    "version": "3"
   },
   "file_extension": ".py",
   "mimetype": "text/x-python",
   "name": "python",
   "nbconvert_exporter": "python",
   "pygments_lexer": "ipython3",
   "version": "3.12.3"
  }
 },
 "nbformat": 4,
 "nbformat_minor": 5
}

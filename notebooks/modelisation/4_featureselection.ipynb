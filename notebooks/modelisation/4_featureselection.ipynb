{
 "cells": [
  {
   "cell_type": "markdown",
   "id": "03366820-b250-4882-babf-833c5c344d76",
   "metadata": {},
   "source": [
    "# Sélection de variables : une introduction\n",
    "\n",
    "Lino Galiana  \n",
    "2025-10-07\n",
    "\n",
    "<div class=\"badge-container\"><div class=\"badge-text\">Pour essayer les exemples présents dans ce tutoriel :</div><a href=\"https://github.com/linogaliana/python-datascientist-notebooks/blob/main/notebooks/modelisation/4_featureselection.ipynb\" target=\"_blank\" rel=\"noopener\"><img src=\"https://img.shields.io/static/v1?logo=github&label=&message=View%20on%20GitHub&color=181717\" alt=\"View on GitHub\"></a>\n",
    "<a href=\"https://datalab.sspcloud.fr/launcher/ide/vscode-python?autoLaunch=true&name=«4_featureselection»&init.personalInit=«https%3A%2F%2Fraw.githubusercontent.com%2Flinogaliana%2Fpython-datascientist%2Fmain%2Fsspcloud%2Finit-vscode.sh»&init.personalInitArgs=«modelisation%204_featureselection%20correction»\" target=\"_blank\" rel=\"noopener\"><img src=\"https://custom-icon-badges.demolab.com/badge/SSP%20Cloud-Lancer_avec_VSCode-blue?logo=vsc&logoColor=white\" alt=\"Onyxia\"></a>\n",
    "<a href=\"https://datalab.sspcloud.fr/launcher/ide/jupyter-python?autoLaunch=true&name=«4_featureselection»&init.personalInit=«https%3A%2F%2Fraw.githubusercontent.com%2Flinogaliana%2Fpython-datascientist%2Fmain%2Fsspcloud%2Finit-jupyter.sh»&init.personalInitArgs=«modelisation%204_featureselection%20correction»\" target=\"_blank\" rel=\"noopener\"><img src=\"https://img.shields.io/badge/SSP%20Cloud-Lancer_avec_Jupyter-orange?logo=Jupyter&logoColor=orange\" alt=\"Onyxia\"></a>\n",
    "<a href=\"https://colab.research.google.com/github/linogaliana/python-datascientist-notebooks-colab//blob/main//notebooks/modelisation/4_featureselection.ipynb\" target=\"_blank\" rel=\"noopener\"><img src=\"https://colab.research.google.com/assets/colab-badge.svg\" alt=\"Open In Colab\"></a><br></div>\n",
    "\n",
    "Ce chapitre utilise toujours le même jeu de données, présenté dans l’[introduction\n",
    "de cette partie](index.qmd) : les données de vote aux élections présidentielles américaines\n",
    "croisées à des variables sociodémographiques.\n",
    "Le code\n",
    "est disponible [sur Github](https://github.com/linogaliana/python-datascientist/blob/main/content/modelisation/get_data.py)."
   ]
  },
  {
   "cell_type": "code",
   "execution_count": null,
   "id": "44f6e559",
   "metadata": {},
   "outputs": [],
   "source": [
    "!pip install --upgrade xlrd #colab bug verson xlrd\n",
    "!pip install geopandas"
   ]
  },
  {
   "cell_type": "code",
   "execution_count": null,
   "id": "b0c18a85",
   "metadata": {},
   "outputs": [],
   "source": [
    "import requests\n",
    "\n",
    "url = 'https://raw.githubusercontent.com/linogaliana/python-datascientist/main/content/modelisation/get_data.py'\n",
    "r = requests.get(url, allow_redirects=True)\n",
    "open('getdata.py', 'wb').write(r.content)\n",
    "\n",
    "import getdata\n",
    "votes = getdata.create_votes_dataframes()"
   ]
  },
  {
   "cell_type": "markdown",
   "id": "057ebc70-f25c-4d2b-8d85-c14882ac9ac2",
   "metadata": {},
   "source": [
    "Jusqu’à présent, nous avons supposé que les variables utiles à la prévision du\n",
    "vote Républicain étaient connues du modélisateur. Nous n’avons ainsi exploité qu’une partie\n",
    "limitée des variables disponibles dans nos données. Néanmoins, outre le fléau\n",
    "computationnel que représenterait la construction d’un modèle avec un grand\n",
    "nombre de variables, le choix d’un nombre restreint de variables\n",
    "(modèle parcimonieux) limite le risque de sur-apprentissage.\n",
    "\n",
    "Comment, dès lors, choisir le bon nombre de variables et la meilleure\n",
    "combinaison de ces variables ? Il existe de multiples méthodes, parmi lesquelles :\n",
    "\n",
    "-   se fonder sur des critères statistiques de performance qui pénalisent les\n",
    "    modèles non parcimonieux. Par exemple, le BIC.\n",
    "-   techniques de *backward elimination*.\n",
    "-   construire des modèles pour lesquels la statistique d’intérêt pénalise l’absence\n",
    "    de parcimonie (ce que l’on va souhaiter faire ici).\n",
    "\n",
    "Dans ce chapitre, nous allons présenter\n",
    "les enjeux principaux de la sélection\n",
    "de variables par le biais du LASSO.\n",
    "\n",
    "Nous allons utiliser par la suite les fonctions ou\n",
    "packages suivants :"
   ]
  },
  {
   "cell_type": "code",
   "execution_count": null,
   "id": "353c02c5",
   "metadata": {},
   "outputs": [],
   "source": [
    "import numpy as np\n",
    "from sklearn.svm import LinearSVC\n",
    "from sklearn.feature_selection import SelectFromModel\n",
    "from sklearn.model_selection import train_test_split\n",
    "from sklearn.preprocessing import StandardScaler\n",
    "from sklearn.impute import SimpleImputer\n",
    "from sklearn.linear_model import Lasso\n",
    "import sklearn.metrics\n",
    "from sklearn.linear_model import LinearRegression\n",
    "import matplotlib.cm as cm\n",
    "import matplotlib.pyplot as plt\n",
    "from sklearn.linear_model import lasso_path\n",
    "import seaborn as sns"
   ]
  },
  {
   "cell_type": "markdown",
   "id": "017212b8-ad66-4f3f-a930-0b7067e85666",
   "metadata": {},
   "source": [
    "# 1. Principe du LASSO\n",
    "\n",
    "## 1.1 Principe général\n",
    "\n",
    "La classe des modèles de *feature selection* est ainsi très vaste et regroupe\n",
    "un ensemble très divers de modèles. Nous allons nous focaliser sur le LASSO\n",
    "(*Least Absolute Shrinkage and Selection Operator*)\n",
    "qui est une extension de la régression linéaire qui vise à sélectionner des\n",
    "modèles *sparses*. Ce type de modèle est central dans le champ du\n",
    "*Compressed sensing* (où on emploie plutôt le terme\n",
    "de *L1-regularization* que de LASSO). Le LASSO est un cas particulier des\n",
    "régressions elastic-net dont un autre cas fameux est la régression *ridge*.\n",
    "Contrairement à la régression linéaire classique, elles fonctionnent également\n",
    "dans un cadre où $p>N$, c’est-à-dire où le nombre de régresseurs est très grand puisque supérieur\n",
    "au nombre d’observations.\n",
    "\n",
    "## 1.2 Pénalisation\n",
    "\n",
    "En adoptant le principe d’une fonction objectif pénalisée,\n",
    "le LASSO permet de fixer un certain nombre de coefficients à 0.\n",
    "Les variables dont la norme est non nulle passent ainsi le test de sélection.\n",
    "\n",
    "> **Tip**\n",
    ">\n",
    "> Le LASSO est un programme d’optimisation sous contrainte. On cherche à trouver l’estimateur $\\beta$ qui minimise l’erreur quadratique (régression linéaire) sous une contrainte additionnelle régularisant les paramètres:\n",
    "> $$\n",
    "> \\min_{\\beta} \\frac{1}{2}\\mathbb{E}\\bigg( \\big( X\\beta - y  \\big)^2 \\bigg) \\\\ \n",
    "> \\text{s.t. } \\sum_{j=1}^p |\\beta_j| \\leq t\n",
    "> $$\n",
    ">\n",
    "> Ce programme se reformule grâce au Lagrangien et permet ainsi d’obtenir un programme de minimisation plus maniable :\n",
    ">\n",
    "> $$\n",
    "> \\beta^{\\text{LASSO}} = \\arg \\min_{\\beta} \\frac{1}{2}\\mathbb{E}\\bigg( \\big( X\\beta - y  \\big)^2 \\bigg) + \\alpha \\sum_{j=1}^p |\\beta_j| = \\arg \\min_{\\beta} ||y-X\\beta||_{2}^{2} + \\lambda ||\\beta||_1\n",
    "> $$\n",
    ">\n",
    "> où $\\lambda$ est une réécriture de la régularisation précédente qui dépend de $\\alpha$. La force de la pénalité appliquée aux modèles non parcimonieux dépend de ce paramètre.\n",
    "\n",
    "## 1.3 Première régression LASSO\n",
    "\n",
    "Comme nous cherchons à trouver les\n",
    "meilleurs prédicteurs du vote Républicain,\n",
    "nous allons retirer les variables\n",
    "qui sont dérivables directement de celles-ci : les scores des concurrents !"
   ]
  },
  {
   "cell_type": "code",
   "execution_count": null,
   "id": "432a1f71",
   "metadata": {},
   "outputs": [],
   "source": [
    "import pandas as pd\n",
    "\n",
    "df2 = pd.DataFrame(votes.drop(columns='geometry'))\n",
    "df2 = df2.loc[\n",
    "  :,\n",
    "  ~df2.columns.str.endswith(\n",
    "    ('_democrat','_green','_other', 'winner', 'per_point_diff', 'per_dem')\n",
    "    )\n",
    "  ]\n",
    "\n",
    "\n",
    "df2 = df2.loc[:,~df2.columns.duplicated()]"
   ]
  },
  {
   "cell_type": "markdown",
   "id": "7ff94c97-a188-4ffe-b6f9-34c355c07b22",
   "metadata": {},
   "source": [
    "Dans cet exercice, nous utiliserons\n",
    "également une fonction pour extraire\n",
    "les variables sélectionnées par le LASSO,\n",
    "la voici :"
   ]
  },
  {
   "cell_type": "code",
   "execution_count": null,
   "id": "0dfadeb0",
   "metadata": {},
   "outputs": [],
   "source": [
    "from sklearn.linear_model import Lasso\n",
    "from sklearn.pipeline import Pipeline\n",
    "\n",
    "def extract_features_selected(lasso: Pipeline, preprocessing_step_name: str = 'preprocess') -> pd.Series:\n",
    "    \"\"\"\n",
    "    Extracts selected features based on the coefficients obtained from Lasso regression.\n",
    "\n",
    "    Parameters:\n",
    "    - lasso (Pipeline): The scikit-learn pipeline containing a trained Lasso regression model.\n",
    "    - preprocessing_step_name (str): The name of the preprocessing step in the pipeline. Default is 'preprocess'.\n",
    "\n",
    "    Returns:\n",
    "    - pd.Series: A Pandas Series containing selected features with non-zero coefficients.\n",
    "    \"\"\"\n",
    "    # Check if lasso object is provided\n",
    "    if not isinstance(lasso, Pipeline):\n",
    "        raise ValueError(\"The provided lasso object is not a scikit-learn pipeline.\")\n",
    "\n",
    "    # Extract the final transformer from the pipeline\n",
    "    lasso_model = lasso[-1]\n",
    "\n",
    "    # Check if lasso_model is a Lasso regression model\n",
    "    if not isinstance(lasso_model, Lasso):\n",
    "        raise ValueError(\"The final step of the pipeline is not a Lasso regression model.\")\n",
    "\n",
    "    # Check if lasso model has 'coef_' attribute\n",
    "    if not hasattr(lasso_model, 'coef_'):\n",
    "        raise ValueError(\"The provided Lasso regression model does not have 'coef_' attribute. \"\n",
    "                         \"Make sure it is a trained Lasso regression model.\")\n",
    "\n",
    "    # Get feature names from the preprocessing step\n",
    "    features_preprocessing = lasso[preprocessing_step_name].get_feature_names_out()\n",
    "\n",
    "    # Extract selected features based on non-zero coefficients\n",
    "    features_selec = pd.Series(features_preprocessing[np.abs(lasso_model.coef_) > 0])\n",
    "\n",
    "    return features_selec"
   ]
  },
  {
   "cell_type": "markdown",
   "id": "69813562-c567-422d-8072-e2abebae8945",
   "metadata": {},
   "source": [
    "> **Exercice 1 : Premier LASSO**\n",
    ">\n",
    "> On cherche toujours à prédire la variable `per_gop`. Avant de faire notre estimation, nous allons créer certains objets intermédiaires qui seront utilisés pour\n",
    "> définir notre *pipeline*:\n",
    ">\n",
    "> 1.  Dans notre `DataFrame`, remplacer les valeurs infinies par des `NaN`.\n",
    ">\n",
    "> 2.  Créez un échantillon d’entraînement et un échantillon test.\n",
    ">\n",
    "> Maintenant nous pouvons passer au coeur de la définition de notre *pipeline*.\n",
    "> [Cet exemple](https://scikit-learn.org/stable/modules/generated/sklearn.pipeline.Pipeline.html) pourra servir de source\n",
    "> d’inspiration, ainsi que [celui-ci](https://www.kaggle.com/code/bextuychiev/lasso-regression-with-pipelines-tutorial).\n",
    ">\n",
    "> 1.  Créer en premier lieu les étapes\n",
    ">     de *preprocessing* pour notre modèle.\n",
    ">     Pour cela, il est d’usage de séparer les étapes appliquées aux variables numériques continues des autres variables, dites\n",
    ">     catégorielles.\n",
    ">\n",
    "> -   Pour les **variables numériques**, imputer à la moyenne puis effectuer une standardisation ;\n",
    "> -   Pour les **variables catégorielles**, les techniques de régression linéaires impliquent d’utiliser une expansion par *one hot encoding*. Avant de faire ce *one hot encoding*, faire une imputation par valeur la plus fréquente.\n",
    ">\n",
    "> 1.  Finaliser le *pipeline* en ajoutant l’étape d’estimation puis estimer un modèle LASSO pénalisé avec $\\alpha = 0.1$.\n",
    ">\n",
    "> En supposant que votre *pipeline* soit dans un objet nommé `pipeline` et que la dernière étape\n",
    "> est nommée `model`, vous pouvez\n",
    "> directement accéder à cette étape en utilisant l’objet `pipeline['model']`.\n",
    ">\n",
    "> 1.  Afficher les valeurs des coefficients. Quelles variables ont une valeur non nulle ?\n",
    "> 2.  Montrer que les variables sélectionnées sont parfois très corrélées.\n",
    "> 3.  Comparer la performance de ce modèle parcimonieux avec celle d’un modèle avec plus de variables.\n",
    ">\n",
    "> <details>\n",
    ">\n",
    "> <summary>\n",
    ">\n",
    "> Aide pour la question 1\n",
    ">\n",
    "> </summary>\n",
    ">\n",
    "> ``` python\n",
    "> # Remplacer les infinis par des NaN\n",
    "> df2.replace([np.inf, -np.inf], np.nan, inplace=True)\n",
    "> ```\n",
    ">\n",
    "> </details>\n",
    ">\n",
    "> <details>\n",
    ">\n",
    "> <summary>\n",
    ">\n",
    "> Aide pour la question 3\n",
    ">\n",
    "> </summary>\n",
    ">\n",
    "> La définition d’un pipeline\n",
    "> suit la structure suivante :\n",
    ">\n",
    "> ``` python\n",
    "> numeric_pipeline = Pipeline(steps=[\n",
    ">     ('impute', # définir la méthode d'imputation ici\n",
    ">      ),\n",
    ">     ('scale', # définir la méthode de standardisation ici\n",
    ">     )\n",
    "> ])\n",
    ">\n",
    "> categorical_pipeline = # adapter le template\n",
    ">\n",
    "> # À vous de définir en amont numerical_features et categorical_features\n",
    "> preprocessor = ColumnTransformer(transformers=[\n",
    ">     ('number', numeric_pipeline, numerical_features),\n",
    ">     ('category', categorical_pipeline, categorical_features)\n",
    "> ])\n",
    "> ```\n",
    ">\n",
    "> </details>\n",
    "\n",
    "Le *pipeline* de *preprocessing* (question 3) prend la forme suivante :"
   ]
  },
  {
   "cell_type": "markdown",
   "id": "36c0aab0-41cb-4ba1-b7f1-69cb66aede66",
   "metadata": {},
   "source": [
    "Le *pipeline* prend la forme suivante, une fois finalisé (question 4) :"
   ]
  },
  {
   "cell_type": "markdown",
   "id": "e1e94db0-a9ff-4cd8-a790-25fe2421cd5d",
   "metadata": {},
   "source": [
    "À l’issue de la question 5, les variables sélectionnées sont :\n",
    "\n",
    "Le modèle est assez parcimonieux puisqu’un sous-échantillon de nos\n",
    "variables initiales (d’autant que nos variables catégorielles\n",
    "ont été éclatées en de nombreuses variables\n",
    "par le *one hot encoding*)."
   ]
  },
  {
   "cell_type": "markdown",
   "id": "da3ed8f5-6ef6-457d-a459-de1a7e371098",
   "metadata": {},
   "source": [
    "Certaines variables font sens, comme les variables d’éducation par exemple. Notamment, un des meilleurs prédicteurs pour le score des Républicains en 2020 est… le score des Républicains (et mécaniquement des démocrates) en 2016 et 2012.\n",
    "\n",
    "Par ailleurs, on sélectionne des variables redondantes. Une phase plus approfondie de nettoyage des données serait en réalité nécessaire.\n",
    "\n",
    "Le modèle parcimonieux est (légèrement) plus performant :"
   ]
  },
  {
   "cell_type": "markdown",
   "id": "33db80d4-09d8-4365-a7b3-5c58a4d0e4d9",
   "metadata": {},
   "source": [
    "D’ailleurs, on pourrait déjà remarquer\n",
    "que régresser le score de 2020 sur celui\n",
    "de 2016 amène déjà à de très bonnes\n",
    "performances explicatives, ce qui suggère\n",
    "que le vote se comporte comme un processus\n",
    "autorégressif :"
   ]
  },
  {
   "cell_type": "code",
   "execution_count": null,
   "id": "de486323",
   "metadata": {},
   "outputs": [
    {
     "data": {
      "text/html": [
       "<br/><br/>Notes:<br/>[1] Standard Errors assume that the covariance matrix of the errors is correctly specified."
      ]
     },
     "metadata": {},
     "output_type": "display_data"
    }
   ],
   "source": [
    "import statsmodels.api as sm\n",
    "import statsmodels.formula.api as smf\n",
    "smf.ols(\"per_gop ~ share_2016_republican\", data = df2).fit().summary()"
   ]
  },
  {
   "cell_type": "markdown",
   "id": "ba1bd3e7-5513-4783-84d7-f4e33e4e7547",
   "metadata": {},
   "source": [
    "# 2. Rôle de la pénalisation $\\alpha$ sur la sélection de variables\n",
    "\n",
    "Nous avons jusqu’à présent pris l’hyperparamètre $\\alpha$\n",
    "comme donné. Quel rôle joue-t-il dans les conclusions de\n",
    "notre modélisation ? Pour cela, nous pouvons\n",
    "explorer l’effet que sa valeur peut avoir sur le nombre\n",
    "de variables passant l’étape de sélection.\n",
    "\n",
    "Pour le prochain\n",
    "exercice, nous allons considérer exclusivement\n",
    "les variables quantitatives pour accélérer les calculs.\n",
    "En effet, avec des modèles non parcimonieux, les multiples\n",
    "modalités de nos variables catégorielles rendent le problème\n",
    "d’optimisation difficilement tractable."
   ]
  },
  {
   "cell_type": "code",
   "execution_count": null,
   "id": "938ec751",
   "metadata": {},
   "outputs": [
    {
     "name": "stderr",
     "output_type": "stream",
     "text": [
      "/home/runner/work/python-datascientist/python-datascientist/.venv/lib/python3.12/site-packages/sklearn/impute/_base.py:635: UserWarning:\n",
      "\n",
      "Skipping features without any observed values: ['POV04_2021' 'CI90LB04_2021' 'CI90UB04_2021' 'PCTPOV04_2021'\n",
      " 'CI90LB04P_2021' 'CI90UB04P_2021']. At least one non-missing value is needed for imputation with strategy='mean'.\n"
     ]
    }
   ],
   "source": [
    "from sklearn.impute import SimpleImputer\n",
    "from sklearn.preprocessing import StandardScaler\n",
    "\n",
    "df2.replace([np.inf, -np.inf], np.nan, inplace=True)\n",
    "X_train, X_test, y_train, y_test = train_test_split(\n",
    "    df2.drop([\"per_gop\"], axis = 1),\n",
    "    100*df2[['per_gop']], test_size=0.2, random_state=0\n",
    ")\n",
    "\n",
    "numerical_features = X_train.select_dtypes(include='number').columns.tolist()\n",
    "categorical_features = X_train.select_dtypes(exclude='number').columns.tolist()\n",
    "\n",
    "numeric_pipeline = Pipeline(steps=[\n",
    "    ('impute', SimpleImputer(strategy='mean')),\n",
    "    ('scale', StandardScaler())\n",
    "])\n",
    "preprocessed_features = pd.DataFrame(\n",
    "  numeric_pipeline.fit_transform(\n",
    "    X_train.drop(columns = categorical_features)\n",
    "  )\n",
    ")"
   ]
  },
  {
   "cell_type": "markdown",
   "id": "48d54c8d-5ded-403f-a363-5b6707a8ad77",
   "metadata": {},
   "source": [
    "> **Exercice 2 : Rôle du paramètre de pénalisation**\n",
    ">\n",
    "> Utiliser la fonction `lasso_path` pour évaluer le nombre de paramètres sélectionnés par LASSO lorsque $\\alpha$\n",
    "> varie (parcourir $\\alpha \\in [0.001,0.01,0.02,0.025,0.05,0.1,0.25,0.5,0.8,1.0]$).\n",
    "\n",
    "La relation que vous devriez obtenir entre $\\alpha$ et\n",
    "le nombre de paramètres est celle-ci :"
   ]
  },
  {
   "cell_type": "markdown",
   "id": "63a1777a-60ff-4894-9541-64067a038e2c",
   "metadata": {},
   "source": [
    "On voit que plus $\\alpha$ est élevé, moins le modèle sélectionne de variables.\n",
    "\n",
    "# 3. Validation croisée pour sélectionner le modèle\n",
    "\n",
    "Quel $\\alpha$ faut-il privilégier ? Pour cela,\n",
    "il convient d’effectuer une validation croisée afin de choisir le modèle pour\n",
    "lequel les variables qui passent la phase de sélection permettent de mieux\n",
    "prédire le résultat Républicain."
   ]
  },
  {
   "cell_type": "code",
   "execution_count": null,
   "id": "7e8178ea",
   "metadata": {},
   "outputs": [],
   "source": [
    "from sklearn.linear_model import LassoCV\n",
    "\n",
    "my_alphas = np.array([0.001,0.01,0.02,0.025,0.05,0.1,0.25,0.5,0.8,1.0])\n",
    "\n",
    "lcv = (\n",
    "  LassoCV(\n",
    "    alphas=my_alphas,\n",
    "    fit_intercept=False,\n",
    "    random_state=0,\n",
    "    cv=5\n",
    "    ).fit(\n",
    "      preprocessed_features, y_train\n",
    "    )\n",
    ")"
   ]
  },
  {
   "cell_type": "markdown",
   "id": "c5d63f33-617c-4608-a5f7-699da11ed113",
   "metadata": {},
   "source": [
    "On peut récupérer le *“meilleur”* $\\alpha$ :"
   ]
  },
  {
   "cell_type": "code",
   "execution_count": null,
   "id": "9fca6601",
   "metadata": {},
   "outputs": [
    {
     "name": "stdout",
     "output_type": "stream",
     "text": [
      "alpha optimal : 1.0"
     ]
    }
   ],
   "source": [
    "print(\"alpha optimal :\", lcv.alpha_)"
   ]
  },
  {
   "cell_type": "markdown",
   "id": "888f1e6e-3f68-4b2f-b08b-eab90d8a53a0",
   "metadata": {},
   "source": [
    "Celui-ci peut être utilisé pour faire tourner un nouveau *pipeline* :"
   ]
  },
  {
   "cell_type": "code",
   "execution_count": null,
   "id": "11b0f051",
   "metadata": {},
   "outputs": [],
   "source": [
    "from sklearn.compose import make_column_transformer, ColumnTransformer\n",
    "from sklearn.preprocessing import OneHotEncoder, StandardScaler\n",
    "\n",
    "numeric_pipeline = Pipeline(steps=[\n",
    "    ('impute', SimpleImputer(strategy='mean')),\n",
    "    ('scale', StandardScaler())\n",
    "])\n",
    "\n",
    "categorical_pipeline = Pipeline(steps=[\n",
    "    ('impute', SimpleImputer(strategy='most_frequent')),\n",
    "    ('one-hot', OneHotEncoder(handle_unknown='ignore', sparse_output=False))\n",
    "])\n",
    "\n",
    "preprocessor = ColumnTransformer(transformers=[\n",
    "    ('number', numeric_pipeline, numerical_features),\n",
    "    ('category', categorical_pipeline, categorical_features)\n",
    "])\n",
    "\n",
    "model = Lasso(\n",
    "  fit_intercept=False, \n",
    "  alpha = lcv.alpha_\n",
    ")  \n",
    "\n",
    "lasso_pipeline = Pipeline(steps=[\n",
    "    ('preprocess', preprocessor),\n",
    "    ('model', model)\n",
    "])\n",
    "\n",
    "lasso_optimal = lasso_pipeline.fit(X_train,y_train)\n",
    "\n",
    "features_selec2 = extract_features_selected(lasso_optimal)"
   ]
  },
  {
   "cell_type": "markdown",
   "id": "bea3b89c-8dc4-4609-ace7-e9aa88cfbb5d",
   "metadata": {},
   "source": [
    "Les variables sélectionnées sont :"
   ]
  },
  {
   "cell_type": "markdown",
   "id": "f759ff25-e595-4eec-a376-49c04ae7a867",
   "metadata": {},
   "source": [
    "Cela correspond à un modèle avec 13 variables sélectionnées.\n",
    "\n",
    "> **Tip**\n",
    ">\n",
    "> Dans le cas où le modèle paraîtrait trop peu parcimonieux, il faudrait revoir la phase de définition des variables pertinentes pour comprendre si des échelles différentes de certaines variables ne seraient pas plus appropriées (par exemple du `log`)."
   ]
  }
 ],
 "metadata": {
  "kernelspec": {
   "display_name": "Python 3 (ipykernel)",
   "language": "python",
   "name": "python3",
   "path": "/home/runner/work/python-datascientist/python-datascientist/.venv/share/jupyter/kernels/python3"
  },
  "language_info": {
   "codemirror_mode": {
    "name": "ipython",
    "version": "3"
   },
   "file_extension": ".py",
   "mimetype": "text/x-python",
   "name": "python",
   "nbconvert_exporter": "python",
   "pygments_lexer": "ipython3",
   "version": "3.12.3"
  }
 },
 "nbformat": 4,
 "nbformat_minor": 5
}

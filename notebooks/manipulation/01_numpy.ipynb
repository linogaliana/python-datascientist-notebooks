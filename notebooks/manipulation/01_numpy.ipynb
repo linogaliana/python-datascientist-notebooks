{
 "cells": [
  {
   "cell_type": "markdown",
   "id": "41b14869-8843-4a85-96af-fc1c4191771e",
   "metadata": {},
   "source": [
    "# Numpy, la brique de base de la data science\n",
    "\n",
    "Lino Galiana  \n",
    "2025-10-07\n",
    "\n",
    "<div class=\"badge-container\"><div class=\"badge-text\">Pour essayer les exemples présents dans ce tutoriel :</div><a href=\"https://github.com/linogaliana/python-datascientist-notebooks/blob/main/notebooks/manipulation/01_numpy.ipynb\" target=\"_blank\" rel=\"noopener\"><img src=\"https://img.shields.io/static/v1?logo=github&label=&message=View%20on%20GitHub&color=181717\" alt=\"View on GitHub\"></a>\n",
    "<a href=\"https://datalab.sspcloud.fr/launcher/ide/vscode-python?autoLaunch=true&name=«01_numpy»&init.personalInit=«https%3A%2F%2Fraw.githubusercontent.com%2Flinogaliana%2Fpython-datascientist%2Fmain%2Fsspcloud%2Finit-vscode.sh»&init.personalInitArgs=«manipulation%2001_numpy%20correction»\" target=\"_blank\" rel=\"noopener\"><img src=\"https://custom-icon-badges.demolab.com/badge/SSP%20Cloud-Lancer_avec_VSCode-blue?logo=vsc&logoColor=white\" alt=\"Onyxia\"></a>\n",
    "<a href=\"https://datalab.sspcloud.fr/launcher/ide/jupyter-python?autoLaunch=true&name=«01_numpy»&init.personalInit=«https%3A%2F%2Fraw.githubusercontent.com%2Flinogaliana%2Fpython-datascientist%2Fmain%2Fsspcloud%2Finit-jupyter.sh»&init.personalInitArgs=«manipulation%2001_numpy%20correction»\" target=\"_blank\" rel=\"noopener\"><img src=\"https://img.shields.io/badge/SSP%20Cloud-Lancer_avec_Jupyter-orange?logo=Jupyter&logoColor=orange\" alt=\"Onyxia\"></a>\n",
    "<a href=\"https://colab.research.google.com/github/linogaliana/python-datascientist-notebooks-colab//blob/main//notebooks/manipulation/01_numpy.ipynb\" target=\"_blank\" rel=\"noopener\"><img src=\"https://colab.research.google.com/assets/colab-badge.svg\" alt=\"Open In Colab\"></a><br></div>\n",
    "\n",
    "> **Note**\n",
    ">\n",
    "> Ceci est la version française 🇫🇷 de ce chapitre, pour voir la version anglaise allez <a href=\"/home/runner/work/python-datascientist/python-datascientist/en/content/manipulation/01_numpy.qmd\">ici</a>.\n",
    "\n",
    "# 1. Introduction\n",
    "\n",
    "Ce chapitre constitue une introduction à *Numpy* pour\n",
    "s’assurer que les bases du calcul vectoriel avec `Python`\n",
    "soient maîtrisées. La première partie du chapitre\n",
    "présente des petits exercices pour pratiquer quelques fonctions basiques de `Numpy`. La fin du chapitre présente\n",
    "des exercices pratiques d’utilisation de `Numpy` plus approfondis.\n",
    "\n",
    "Il est recommandé de régulièrement se référer à\n",
    "la [*cheatsheet numpy*](https://www.datacamp.com/community/blog/python-numpy-cheat-sheet) et à la\n",
    "[doc officielle](https://numpy.org/doc/stable/) en cas de doute\n",
    "sur une fonction.\n",
    "\n",
    "Dans ce chapitre, on ne dérogera pas à la convention qui s’est imposée\n",
    "d’importer `Numpy` de la\n",
    "manière suivante :"
   ]
  },
  {
   "cell_type": "code",
   "execution_count": null,
   "id": "import-np",
   "metadata": {},
   "outputs": [],
   "source": [
    "import numpy as np"
   ]
  },
  {
   "cell_type": "markdown",
   "id": "156dfd7e-ff5c-48f6-8c7d-890d16d7f6c2",
   "metadata": {},
   "source": [
    "Nous allons également fixer la racine du générateur aléatoire de nombres\n",
    "afin d’avoir des résultats reproductibles :"
   ]
  },
  {
   "cell_type": "code",
   "execution_count": null,
   "id": "23b62f84",
   "metadata": {},
   "outputs": [],
   "source": [
    "import numpy as np\n",
    "rng = np.random.default_rng(seed=12345)"
   ]
  },
  {
   "cell_type": "markdown",
   "id": "0bddf132-8064-4b1f-b826-9c2a94ff03c1",
   "metadata": {},
   "source": [
    "> **Caution**\n",
    ">\n",
    "> Historiquement, la génération de nombres aléatoires se faisait pas le biais du package `numpy.random`. Néanmoins, les auteurs de `Numpy` [recommandent maintenant](https://numpy.org/doc/stable/reference/random/index.html) d’utiliser plutôt des générateurs pour cela. Les exemples de ce tutoriel adoptent donc cette pratique.\n",
    "\n",
    "# 2. Le concept d’*array*\n",
    "\n",
    "Dans le monde de la science des données, comme cela sera évoqué\n",
    "plus en profondeur dans les prochains chapitres,\n",
    "l’objet central est le tableau à deux dimensions de données.\n",
    "La première correspond aux lignes et la seconde aux colonnes.\n",
    "Si on ne se préoccupe que d’une dimension, on se rapporte\n",
    "à une variable (une colonne) de notre tableau de données.\n",
    "Il est donc naturel de faire le lien entre les\n",
    "tableaux de données et l’objet mathématique\n",
    "que sont les matrices et les vecteurs.\n",
    "\n",
    "`NumPy` (`Numerical Python`) est la brique de base\n",
    "pour traiter des listes numériques ou des chaines\n",
    "de textes comme des matrices.\n",
    "`NumPy` intervient pour proposer\n",
    "ce type d’objets, et\n",
    "les opérations standardisées associées qui n’existent\n",
    "pas dans le langage `Python` de base.\n",
    "\n",
    "L’objet central de `NumPy` est\n",
    "l’**`array`** qui est un tableau de données multidimensionnel.\n",
    "L’array `Numpy` peut être unidimensionnel et s’apparenter à un\n",
    "vecteur (`1d-array`),\n",
    "bidimensionnel et ainsi s’apparenter à une matrice (`2d-array`) ou,\n",
    "de manière plus générale,\n",
    "prendre la forme d’un objet\n",
    "multidimensionnel (`Nd-array`), sorte de tableau emboîté.\n",
    "\n",
    "Les tableaux simples (uni ou bi-dimensionnels) sont faciles à se représenter\n",
    "et représentent la majorité des besoins liés à `Numpy`.\n",
    "Nous découvrirons lors du chapitre suivant, sur `Pandas`, qu’en pratique\n",
    "on manipule rarement directement `Numpy` qui est une librairie\n",
    "bas niveau.\n",
    "Un *DataFrame* `Pandas` sera construit à partir d’une collection\n",
    "d’array uni-dimensionnels (les variables de la table), ce qui permettra d’effectuer des opérations cohérentes\n",
    "(et optimisées) avec le type de la variable.\n",
    "Avoir quelques notions `Numpy` est utile pour comprendre\n",
    "la logique de manipulation vectorielle\n",
    "rendant les traitements sur des données plus lisibles,\n",
    "plus efficaces et plus fiables.\n",
    "\n",
    "Par rapport à une liste,\n",
    "\n",
    "-   un *array* ne peut contenir qu’un type de données (`integer`, `string`, etc.),\n",
    "    contrairement à une liste.\n",
    "-   les opérations implémentées par `Numpy` seront plus efficaces et demanderont moins\n",
    "    de mémoire\n",
    "\n",
    "Les données géographiques constitueront une construction un peu plus complexe qu’un `DataFrame` traditionnel.\n",
    "La dimension géographique prend la forme d’un tableau plus profond, au moins bidimensionnel\n",
    "(coordonnées d’un point). Néanmoins, les librairies de manipulation\n",
    "de données géographiques permettront de ne pas se préoccuper de\n",
    "cette complexité accrue.\n",
    "\n",
    "## 2.1 Créer un array\n",
    "\n",
    "On peut créer un *array* de plusieurs manières. Pour créer un *array* à partir d’une liste,\n",
    "il suffit d’utiliser la méthode `array`:"
   ]
  },
  {
   "cell_type": "code",
   "execution_count": null,
   "id": "7ca5779d",
   "metadata": {},
   "outputs": [
    {
     "data": {
      "text/plain": [
       "array([1, 2, 5])"
      ]
     },
     "metadata": {},
     "output_type": "display_data"
    }
   ],
   "source": [
    "np.array([1,2,5])"
   ]
  },
  {
   "cell_type": "markdown",
   "id": "458e2469-5b7b-4261-abef-24856f1daf50",
   "metadata": {},
   "source": [
    "Il est possible d’ajouter un argument `dtype` pour contraindre le type du *array* :"
   ]
  },
  {
   "cell_type": "code",
   "execution_count": null,
   "id": "ff97a081",
   "metadata": {},
   "outputs": [
    {
     "data": {
      "text/plain": [
       "array([list(['a', 'z', 'e']), list(['r', 't']), list(['y'])], dtype=object)"
      ]
     },
     "metadata": {},
     "output_type": "display_data"
    }
   ],
   "source": [
    "np.array([[\"a\",\"z\",\"e\"],[\"r\",\"t\"],[\"y\"]], dtype=\"object\")"
   ]
  },
  {
   "cell_type": "markdown",
   "id": "b37d3f41-a028-4917-a116-7481a1ea8b8c",
   "metadata": {},
   "source": [
    "Il existe aussi des méthodes pratiques pour créer des array:\n",
    "\n",
    "-   séquences logiques : `np.arange` (suite) ou `np.linspace` (interpolation linéaire entre deux bornes) ;\n",
    "-   séquences ordonnées : *array* rempli de zéros, de 1 ou d’un nombre désiré : `np.zeros`, `np.ones` ou `np.full` ;\n",
    "-   séquences aléatoires : fonctions de génération de nombres aléatoires : `rng.uniform`, `rng.normal`, etc. où `rng` est un générateur de nombre aléatoires ;  \n",
    "-   tableau sous forme de matrice identité : `np.eye`.\n",
    "\n",
    "Ceci donne ainsi, pour les séquences logiques:"
   ]
  },
  {
   "cell_type": "code",
   "execution_count": null,
   "id": "a7c7b3cf",
   "metadata": {},
   "outputs": [
    {
     "data": {
      "text/plain": [
       "array([0, 1, 2, 3, 4, 5, 6, 7, 8, 9])"
      ]
     },
     "metadata": {},
     "output_type": "display_data"
    }
   ],
   "source": [
    "np.arange(0,10)"
   ]
  },
  {
   "cell_type": "code",
   "execution_count": null,
   "id": "1f40ba52",
   "metadata": {},
   "outputs": [
    {
     "data": {
      "text/plain": [
       "array([0, 3, 6, 9])"
      ]
     },
     "metadata": {},
     "output_type": "display_data"
    }
   ],
   "source": [
    "np.arange(0,10,3)"
   ]
  },
  {
   "cell_type": "code",
   "execution_count": null,
   "id": "243fce5d",
   "metadata": {},
   "outputs": [
    {
     "data": {
      "text/plain": [
       "array([0.  , 0.25, 0.5 , 0.75, 1.  ])"
      ]
     },
     "metadata": {},
     "output_type": "display_data"
    }
   ],
   "source": [
    "np.linspace(0, 1, 5)"
   ]
  },
  {
   "cell_type": "markdown",
   "id": "33fc3762-91f1-4419-8579-5c6ddbd3351b",
   "metadata": {},
   "source": [
    "Pour un *array* initialisé à 0:"
   ]
  },
  {
   "cell_type": "code",
   "execution_count": null,
   "id": "c9b66812",
   "metadata": {},
   "outputs": [
    {
     "data": {
      "text/plain": [
       "array([0, 0, 0, 0, 0, 0, 0, 0, 0, 0])"
      ]
     },
     "metadata": {},
     "output_type": "display_data"
    }
   ],
   "source": [
    "np.zeros(10, dtype=int)"
   ]
  },
  {
   "cell_type": "markdown",
   "id": "c0cf90d8-2c88-4836-b723-adb1e5b5b51c",
   "metadata": {},
   "source": [
    "ou initialisé à 1:"
   ]
  },
  {
   "cell_type": "code",
   "execution_count": null,
   "id": "37fe4ad7",
   "metadata": {},
   "outputs": [
    {
     "data": {
      "text/plain": [
       "array([[1., 1., 1., 1., 1.],\n",
       "       [1., 1., 1., 1., 1.],\n",
       "       [1., 1., 1., 1., 1.]])"
      ]
     },
     "metadata": {},
     "output_type": "display_data"
    }
   ],
   "source": [
    "np.ones((3, 5), dtype=float)"
   ]
  },
  {
   "cell_type": "markdown",
   "id": "c8759cae-60ac-44ed-a1e7-51f9f4c06b99",
   "metadata": {},
   "source": [
    "ou encore initialisé à 3.14:"
   ]
  },
  {
   "cell_type": "code",
   "execution_count": null,
   "id": "dea19ade",
   "metadata": {},
   "outputs": [
    {
     "data": {
      "text/plain": [
       "array([[3.14, 3.14, 3.14, 3.14, 3.14],\n",
       "       [3.14, 3.14, 3.14, 3.14, 3.14],\n",
       "       [3.14, 3.14, 3.14, 3.14, 3.14]])"
      ]
     },
     "metadata": {},
     "output_type": "display_data"
    }
   ],
   "source": [
    "np.full((3, 5), 3.14)"
   ]
  },
  {
   "cell_type": "markdown",
   "id": "9a9ad52c-c7c9-483b-ba80-0267e67d3709",
   "metadata": {},
   "source": [
    "Enfin, pour créer la matrice $I_3$:"
   ]
  },
  {
   "cell_type": "code",
   "execution_count": null,
   "id": "90512312",
   "metadata": {},
   "outputs": [
    {
     "data": {
      "text/plain": [
       "array([[1., 0., 0.],\n",
       "       [0., 1., 0.],\n",
       "       [0., 0., 1.]])"
      ]
     },
     "metadata": {},
     "output_type": "display_data"
    }
   ],
   "source": [
    "np.eye(3)"
   ]
  },
  {
   "cell_type": "markdown",
   "id": "2f29d5cc-c99c-400c-b5ed-427418d8ed34",
   "metadata": {},
   "source": [
    "> **Exercice 1**\n",
    ">\n",
    "> Générer:\n",
    ">\n",
    "> -   $X$ une variable aléatoire, 1000 répétitions d’une loi $U(0,1)$\n",
    "> -   $Y$ une variable aléatoire, 1000 répétitions d’une loi normale de moyenne nulle et de variance égale à 2\n",
    "> -   Vérifier la variance de $Y$ avec `np.var`\n",
    "\n",
    "# 3. Indexation et *slicing*\n",
    "\n",
    "## 3.1 Logique dans le cas d’un array unidimensionnel\n",
    "\n",
    "La structure la plus simple est l’*array* unidimensionnel:"
   ]
  },
  {
   "cell_type": "code",
   "execution_count": null,
   "id": "9c15b91b",
   "metadata": {},
   "outputs": [
    {
     "name": "stdout",
     "output_type": "stream",
     "text": [
      "[0 1 2 3 4 5 6 7 8 9]"
     ]
    }
   ],
   "source": [
    "x = np.arange(10)\n",
    "print(x)"
   ]
  },
  {
   "cell_type": "markdown",
   "id": "20e046ef-c689-41e9-a97c-3314a8b90200",
   "metadata": {},
   "source": [
    "L’indexation est dans ce cas similaire à celle d’une liste:\n",
    "\n",
    "-   le premier élément est 0\n",
    "-   le énième élément est accessible à la position $n-1$\n",
    "\n",
    "La logique d’accès aux éléments est ainsi la suivante :\n",
    "\n",
    "``` python\n",
    "x[start:stop:step]\n",
    "```\n",
    "\n",
    "Avec un *array* unidimensionnel, l’opération de *slicing* (garder une coupe du *array*) est très simple.\n",
    "Par exemple, pour garder les *K* premiers éléments d’un *array*, on fera:\n",
    "\n",
    "``` python\n",
    "x[:K]\n",
    "```\n",
    "\n",
    "En l’occurrence, on sélectionne le K$^{eme}$ élément en utilisant\n",
    "\n",
    "``` python\n",
    "x[K-1]\n",
    "```\n",
    "\n",
    "Pour sélectionner uniquement un élément, on fera ainsi:"
   ]
  },
  {
   "cell_type": "code",
   "execution_count": null,
   "id": "957949c7",
   "metadata": {},
   "outputs": [
    {
     "data": {
      "text/plain": [
       "np.int64(2)"
      ]
     },
     "metadata": {},
     "output_type": "display_data"
    }
   ],
   "source": [
    "x = np.arange(10)\n",
    "x[2]"
   ]
  },
  {
   "cell_type": "markdown",
   "id": "fd4cb55c-5e53-4d13-9970-752179926470",
   "metadata": {},
   "source": [
    "Les syntaxes qui permettent de sélectionner des indices particuliers d’une liste fonctionnent également\n",
    "avec les *arrays*.\n",
    "\n",
    "> **Exercice 2**\n",
    ">\n",
    "> Prenez `x = np.arange(10)` et…\n",
    ">\n",
    "> -   Sélectionner les éléments 0, 3, 5 de `x`\n",
    "> -   Sélectionner les éléments pairs\n",
    "> -   Sélectionner tous les éléments sauf le premier\n",
    "> -   Sélectionner les 5 premiers éléments"
   ]
  },
  {
   "cell_type": "code",
   "execution_count": null,
   "id": "8eed0458",
   "metadata": {},
   "outputs": [
    {
     "data": {
      "text/plain": [
       "array([0, 1, 2, 3, 4, 5, 6, 7, 8, 9])"
      ]
     },
     "metadata": {},
     "output_type": "display_data"
    }
   ],
   "source": [
    "np.arange(10)"
   ]
  },
  {
   "cell_type": "markdown",
   "id": "71c4d96f-20a6-4fdf-b4a9-41a7241b2659",
   "metadata": {},
   "source": [
    "La logique se généralise pour les *array* multidimensionnels. L’indexation se fait alors à plusieurs niveaux. Prenons par exemple un array à 2 dimensions (une matrice en quelques sortes):"
   ]
  },
  {
   "cell_type": "code",
   "execution_count": null,
   "id": "0edb3e60",
   "metadata": {},
   "outputs": [],
   "source": [
    "x = np.array([[1, 2, 3], [4, 5, 6]], np.int32)"
   ]
  },
  {
   "cell_type": "markdown",
   "id": "416c1841-dbeb-4378-b555-e32c5ab8e27c",
   "metadata": {},
   "source": [
    "Si on veut sélectionner la 2e ligne, 3e colonne (l’élément de valeur 6), on fait"
   ]
  },
  {
   "cell_type": "code",
   "execution_count": null,
   "id": "5823518e",
   "metadata": {},
   "outputs": [
    {
     "data": {
      "text/plain": [
       "np.int32(6)"
      ]
     },
     "metadata": {},
     "output_type": "display_data"
    }
   ],
   "source": [
    "x[1, 2]"
   ]
  },
  {
   "cell_type": "markdown",
   "id": "16c0462a-1a9c-4c80-a7d1-7818e77a1ea2",
   "metadata": {},
   "source": [
    "Maintenant, pour sélectionner une colonne complète (par exemple la 2e), on peut utiliser le 2e index pour spécifier celle-ci (index 1 en Python puisque l’indexation part de 0) puis `:` sur la première dimension (version raccourcie de `0:N`) pour ne pas discriminer selon cette dimension:"
   ]
  },
  {
   "cell_type": "code",
   "execution_count": null,
   "id": "385f17f9",
   "metadata": {},
   "outputs": [
    {
     "data": {
      "text/plain": [
       "array([2, 5], dtype=int32)"
      ]
     },
     "metadata": {},
     "output_type": "display_data"
    }
   ],
   "source": [
    "x[:,1]"
   ]
  },
  {
   "cell_type": "markdown",
   "id": "2d319c46-c8ba-4f1c-9f58-9706f732ab13",
   "metadata": {},
   "source": [
    "Le principe se généralise, mais se complexifie, pour des *array* imbriqués. Heureusement, ce sont des objets qu’on manipule assez rarement directement, la plupart de nos données numériques étant des tableaux plats (une valeur - l’observation - est le croisement d’une ligne - l’individu - et d’une colonne - la variable).\n",
    "\n",
    "## 3.2 Sur la performance\n",
    "\n",
    "Un élément déterminant dans la performance de `Numpy` par rapport aux listes,\n",
    "lorsqu’il est question de\n",
    "*slicing* est qu’un array ne renvoie pas une\n",
    "copie de l’élément en question (copie qui coûte de la mémoire et du temps)\n",
    "mais simplement une vue de celui-ci.\n",
    "\n",
    "Lorsqu’il est nécessaire d’effectuer une copie,\n",
    "par exemple pour ne pas altérer l’*array* sous-jacent, on peut\n",
    "utiliser la méthode `copy`:\n",
    "\n",
    "``` python\n",
    "x_sub_copy = x[:2, :2].copy()\n",
    "```\n",
    "\n",
    "## 3.3 Filtres logiques\n",
    "\n",
    "Il est également possible, et plus pratique, de sélectionner des données à partir de conditions logiques\n",
    "(opération qu’on appelle un ***boolean mask***).\n",
    "Cette fonctionalité servira principalement à\n",
    "effectuer des opérations de filtre sur les données.\n",
    "\n",
    "Pour des opérations de comparaison simples, les comparateurs logiques peuvent être suffisants.\n",
    "Ces comparaisons fonctionnent aussi sur les tableaux multidimensionnels grâce au\n",
    "*broadcasting* sur lequel nous reviendrons :"
   ]
  },
  {
   "cell_type": "code",
   "execution_count": null,
   "id": "5d78d17c",
   "metadata": {},
   "outputs": [
    {
     "name": "stdout",
     "output_type": "stream",
     "text": [
      "[0 1 2 3 4 5 6 7 8 9]\n",
      "[[-1  1 -2]\n",
      " [-3  2  0]]"
     ]
    }
   ],
   "source": [
    "x = np.arange(10)\n",
    "x2 = np.array([[-1,1,-2],[-3,2,0]])\n",
    "print(x)\n",
    "print(x2)"
   ]
  },
  {
   "cell_type": "code",
   "execution_count": null,
   "id": "7c021d9a",
   "metadata": {},
   "outputs": [
    {
     "data": {
      "text/plain": [
       "array([[ True, False,  True],\n",
       "       [ True, False, False]])"
      ]
     },
     "metadata": {},
     "output_type": "display_data"
    }
   ],
   "source": [
    "x==2\n",
    "x2<0"
   ]
  },
  {
   "cell_type": "markdown",
   "id": "96cf2e86-fffb-4ef3-8e5d-a062dfb81290",
   "metadata": {},
   "source": [
    "Pour sélectionner les observations relatives à la condition logique,\n",
    "il suffit d’utiliser la logique de *slicing* de `numpy` qui fonctionne avec les conditions logiques\n",
    "\n",
    "> **Exercice 3**\n",
    ">\n",
    "> Soit\n",
    ">\n",
    "> ``` python\n",
    "> x = np.random.normal(size=10000)\n",
    "> ```\n",
    ">\n",
    "> 1.  Ne conserver que les valeurs dont la valeur absolue est supérieure à 1.96\n",
    "> 2.  Compter le nombre de valeurs supérieures à 1.96 en valeur absolue et leur proportion dans l’ensemble\n",
    "> 3.  Sommer les valeurs absolues de toutes les observations supérieures (en valeur absolue) à 1.96\n",
    ">     et rapportez les à la somme des valeurs de `x` (en valeur absolue)\n",
    "\n",
    "Lorsque c’est possible, il est recommandé d’utiliser les fonctions logiques de `numpy` (optimisées et\n",
    "qui gèrent bien la dimension).\n",
    "Parmi elles, on peut retrouver:\n",
    "\n",
    "-   `count_nonzero` ;\n",
    "-   `isnan` ;\n",
    "-   `any` ou `all`, notamment avec l’argument `axis` ;\n",
    "-   `np.array_equal` pour vérifier, élément par élément, l’égalité.\n",
    "\n",
    "Soient `x` un *array* multidimensionnel et `y` un *array* unidimensionnel présentant une valeur manquante."
   ]
  },
  {
   "cell_type": "code",
   "execution_count": null,
   "id": "c7868d0e",
   "metadata": {},
   "outputs": [],
   "source": [
    "# Assuming rng has been created beforehand\n",
    "x = rng.normal(0, size=(3, 4))\n",
    "y = np.array([np.nan, 0, 1])"
   ]
  },
  {
   "cell_type": "markdown",
   "id": "99ae5f96-ada6-42ed-86a2-9db14279ec49",
   "metadata": {},
   "source": [
    "> **Exercice 4**\n",
    ">\n",
    "> 1.  Utiliser `count_nonzero` sur `y`\n",
    "> 2.  Utiliser `isnan` sur `y` et compter le nombre de valeurs non NaN\n",
    "> 3.  Vérifier que `x` comporte au moins une valeur positive dans son ensemble, en parcourant les lignes puis les colonnes.\n",
    ">\n",
    "> <details>\n",
    ">\n",
    "> <summary>\n",
    ">\n",
    "> Aide\n",
    ">\n",
    "> </summary>\n",
    ">\n",
    "> Jetez un oeil au paramètre `axis` en vous documentant sur internet. Par exemple [ici](https://www.sharpsightlabs.com/blog/numpy-axes-explained/).\n",
    ">\n",
    "> </details>\n",
    "\n",
    "# 4. Manipuler un *array*\n",
    "\n",
    "## 4.1 Fonctions de manipulation\n",
    "\n",
    "`Numpy` propose des méthodes ou des fonctions standardisées pour\n",
    "modifier un array, voici un tableau en présentant quelques-unes:\n",
    "\n",
    "| Opération | Implémentation |\n",
    "|------------------------------|------------------------------------------|\n",
    "| Aplatir un array | `x.flatten()` (méthode) |\n",
    "| Transposer un array | `x.T` (méthode) ou `np.transpose(x)` (fonction) |\n",
    "| Ajouter des éléments à la fin | `np.append(x, [1,2])` |\n",
    "| Ajouter des éléments à un endroit donné (aux positions 1 et 2) | `np.insert(x, [1,2], 3)` |\n",
    "| Supprimer des éléments (aux positions 0 et 3) | `np.delete(x, [0,3])` |\n",
    "\n",
    "Pour combiner des array, on peut utiliser, selon les cas,\n",
    "les fonctions `np.concatenate`, `np.vstack` ou la méthode `.r_` (concaténation *rowwise*).\n",
    "`np.hstack` ou la méthode `.column_stack` ou `.c_` (concaténation *column-wise*)"
   ]
  },
  {
   "cell_type": "code",
   "execution_count": null,
   "id": "8264e08f",
   "metadata": {},
   "outputs": [],
   "source": [
    "x = rng.normal(size = 10)"
   ]
  },
  {
   "cell_type": "markdown",
   "id": "f85e672d-ee68-4548-a16f-b29fb027c120",
   "metadata": {},
   "source": [
    "Pour ordonner un array, on utilise `np.sort`"
   ]
  },
  {
   "cell_type": "code",
   "execution_count": null,
   "id": "319cbb01",
   "metadata": {},
   "outputs": [
    {
     "data": {
      "text/plain": [
       "array([1, 2, 3, 4, 5, 6, 7])"
      ]
     },
     "metadata": {},
     "output_type": "display_data"
    }
   ],
   "source": [
    "x = np.array([7, 2, 3, 1, 6, 5, 4])\n",
    "\n",
    "np.sort(x)"
   ]
  },
  {
   "cell_type": "markdown",
   "id": "dab69d92-1271-4357-a8f2-c6ee14130456",
   "metadata": {},
   "source": [
    "Si on désire faire un ré-ordonnement partiel pour trouver les *k* valeurs les plus petites d’un `array` sans les ordonner, on utilise `partition`:"
   ]
  },
  {
   "cell_type": "code",
   "execution_count": null,
   "id": "8a86ac75",
   "metadata": {},
   "outputs": [
    {
     "data": {
      "text/plain": [
       "array([1, 2, 3, 4, 5, 6, 7])"
      ]
     },
     "metadata": {},
     "output_type": "display_data"
    }
   ],
   "source": [
    "np.partition(x, 3)"
   ]
  },
  {
   "cell_type": "markdown",
   "id": "c20b0b00-fe76-4233-9a52-798307ae88ab",
   "metadata": {},
   "source": [
    "## 4.2 Statistiques sur un *array*\n",
    "\n",
    "Pour les statistiques descriptives classiques,\n",
    "`Numpy` propose un certain nombre de fonctions déjà implémentées,\n",
    "qui peuvent être combinées avec l’argument `axis`"
   ]
  },
  {
   "cell_type": "code",
   "execution_count": null,
   "id": "580e776a",
   "metadata": {},
   "outputs": [],
   "source": [
    "x = rng.normal(0, size=(3, 4))"
   ]
  },
  {
   "cell_type": "markdown",
   "id": "2f486329-a1a1-448a-95b1-4f47bb4136fc",
   "metadata": {},
   "source": [
    "> **Exercice 5**\n",
    ">\n",
    "> 1.  Faire la somme de tous les éléments d’un `array`, des éléments en ligne et des éléments en colonne. Vérifier\n",
    ">     la cohérence.\n",
    "> 2.  Ecrire une fonction `statdesc` pour renvoyer les valeurs suivantes : moyenne, médiane, écart-type, minimum et maximum.\n",
    ">     L’appliquer sur `x` en jouant avec l’argument *axis*\n",
    "\n",
    "# 5. *Broadcasting*\n",
    "\n",
    "Le *broadcasting* désigne un ensemble de règles permettant\n",
    "d’appliquer des opérations sur des tableaux de dimensions différentes. En pratique,\n",
    "cela consiste généralement à appliquer une seule opération à l’ensemble des membres d’un tableau `numpy`.\n",
    "\n",
    "La différence peut être comprise à partir de l’exemple suivant. Le *broadcasting* permet\n",
    "de transformer le scalaire `5` en *array* de dimension 3:"
   ]
  },
  {
   "cell_type": "code",
   "execution_count": null,
   "id": "44526173",
   "metadata": {},
   "outputs": [
    {
     "data": {
      "text/plain": [
       "array([5, 6, 7])"
      ]
     },
     "metadata": {},
     "output_type": "display_data"
    }
   ],
   "source": [
    "a = np.array([0, 1, 2])\n",
    "b = np.array([5, 5, 5])\n",
    "\n",
    "a + b\n",
    "a + 5"
   ]
  },
  {
   "cell_type": "markdown",
   "id": "a662f3be-65a4-4400-901b-5589ba7c08fe",
   "metadata": {},
   "source": [
    "Le *broadcasting* peut être très pratique pour effectuer de manière efficace des opérations sur des données à\n",
    "la structure complexe. Pour plus de détails, se rendre\n",
    "[ici](https://jakevdp.github.io/PythonDataScienceHandbook/02.05-computation-on-arrays-broadcasting.html) ou [ici](https://stackoverflow.com/questions/47435526/what-is-the-meaning-of-axis-1-in-keras-argmax).\n",
    "\n",
    "## 5.1 Une application: programmer ses propres k-nearest neighbors\n",
    "\n",
    "> **Exercice 6 (un peu plus corsé)**\n",
    ">\n",
    "> 1.  Créer `X` un tableau à deux dimensions (i.e. une matrice) comportant 10 lignes\n",
    ">     et 2 colonnes. Les nombres dans le tableau sont aléatoires.\n",
    "> 2.  Importer le module `matplotlib.pyplot` sous le nom `plt`. Utiliser\n",
    ">     `plt.scatter` pour représenter les données sous forme de nuage de points.\n",
    "> 3.  Constuire une matrice 10x10 stockant, à l’élément $(i,j)$, la distance euclidienne entre les points $X[i,]$ et $X[j,]$. Pour cela, il va falloir jouer avec les dimensions en créant des tableaux emboîtés à partir par des appels à `np.newaxis` :\n",
    ">     1.  En premier lieu, utiliser `X1 = X[:, np.newaxis, :]` pour transformer la matrice en tableau emboîté. Vérifier les dimensions\n",
    ">     2.  Créer `X2` de dimension `(1, 10, 2)` à partir de la même logique\n",
    ">     3.  En déduire, pour chaque point, la distance avec les autres points pour chaque coordonnées. Elever celle-ci au carré\n",
    ">     4.  A ce stade, vous devriez avoir un tableau de dimension `(10, 10, 2)`. La réduction à une matrice s’obtient en sommant sur le dernier axe. Regarder dans l’aide de `np.sum` comme effectuer une somme sur le dernier axe.\n",
    ">     5.  Enfin, appliquer la racine carrée pour obtenir une distance euclidienne en bonne et due forme.\n",
    "> 4.  Vérifier que les termes diagonaux sont bien nuls (distance d’un point à lui-même…)\n",
    "> 5.  Il s’agit maintenant de classer, pour chaque point, les points dont les valeurs sont les plus similaires. Utiliser `np.argsort` pour obtenir, pour chaque ligne, le classement des points les plus proches\n",
    "> 6.  On va s’intéresser aux k-plus proches voisins. Pour le moment, fixons k=2. Utiliser `argpartition` pour réordonner chaque ligne de manière à avoir les 2 plus proches voisins de chaque point d’abord et le reste de la ligne ensuite\n",
    "> 7.  Utiliser le morceau de code ci-dessous"
   ]
  },
  {
   "cell_type": "markdown",
   "id": "5865e27d-da43-431d-b175-7718dd156fa2",
   "metadata": {},
   "source": [
    "<details><summary>Un indice pour représenter graphiquement les plus proches voisins</summary>\n",
    "\n",
    "``` python\n",
    "plt.scatter(X[:, 0], X[:, 1], s=100)\n",
    "\n",
    "# draw lines from each point to its two nearest neighbors\n",
    "K = 2\n",
    "\n",
    "for i in range(X.shape[0]):\n",
    "    for j in nearest_partition[i, :K+1]:\n",
    "        # plot a line from X[i] to X[j]\n",
    "        # use some zip magic to make it happen:\n",
    "        plt.plot(*zip(X[j], X[i]), color='black')\n",
    "```\n",
    "\n",
    "</details>"
   ]
  },
  {
   "cell_type": "markdown",
   "id": "1bab2ef6-caf2-4119-9f8f-2b8bd50662fe",
   "metadata": {},
   "source": [
    "Pour la question 2, vous devriez obtenir un graphique ayant cet aspect\n",
    "\n",
    "For question 2, you should get a graph that looks like this:"
   ]
  },
  {
   "cell_type": "markdown",
   "id": "63f76ff9-e65f-45b7-9dea-6326b0955c13",
   "metadata": {},
   "source": [
    "Le résultat de la question 7 est le suivant :"
   ]
  },
  {
   "cell_type": "markdown",
   "id": "5c32d000-4dd4-47ad-834c-c4fbe9b73308",
   "metadata": {},
   "source": [
    "Ai-je inventé cet exercice corsé ? Pas du tout, il vient de l’ouvrage [*Python Data Science Handbook*](https://jakevdp.github.io/PythonDataScienceHandbook/02.08-sorting.html#Example:-k-Nearest-Neighbors). Mais, si je vous l’avais indiqué immédiatement, auriez-vous cherché à répondre aux questions ?\n",
    "\n",
    "Par ailleurs, il ne serait pas une bonne idée de généraliser cet algorithme à de grosses données. La complexité de notre approche est $O(N^2)$. L’algorithme implémenté par `Scikit-Learn` est\n",
    "en $O[NlogN]$.\n",
    "\n",
    "De plus, le calcul de distances matricielles en utilisant la puissance des cartes graphiques serait plus rapide. A cet égard, la librairie [faiss](https://github.com/facebookresearch/faiss) ou les *frameworks* spécialisés dans le calcul de distance entre des vecteurs à haute dimension comme [ChromaDB](https://www.trychroma.com/)\n",
    "offrent des performances beaucoup plus satisfaisantes que celles que permettraient `Numpy` sur ce problème précis.\n",
    "\n",
    "# 6. Exercices supplémentaires\n",
    "\n",
    "> **Comprendre le principe de l’algorithme <code>PageRank</code>**\n",
    ">\n",
    "> `Google` est devenu célèbre grâce à son algorithme `PageRank`. Celui-ci permet, à partir\n",
    "> de liens entre sites *web*, de donner un score d’importance à un site *web* qui va\n",
    "> être utilisé pour évaluer sa centralité dans un réseau. L’objectif de cet exercice est d’utiliser `Numpy` pour mettre en oeuvre un tel algorithme à partir d’une matrice d’adjacence qui relie les sites entre eux.\n",
    ">\n",
    "> 1.  Créer la matrice suivante avec `Numpy`. L’appeler `M`:\n",
    ">\n",
    "> $$\n",
    "> \\begin{bmatrix}\n",
    "> 0 & 0 & 0 & 0 & 1 \\\\\n",
    "> 0.5 & 0 & 0 & 0 & 0 \\\\\n",
    "> 0.5 & 0 & 0 & 0 & 0 \\\\\n",
    "> 0 & 1 & 0.5 & 0 & 0 \\\\\n",
    "> 0 & 0 & 0.5 & 1 & 0\n",
    "> \\end{bmatrix}\n",
    "> $$\n",
    ">\n",
    "> 1.  Pour représenter visuellement ce *web* minimaliste,\n",
    ">     convertir en objet `networkx` (une librairie spécialisée\n",
    ">     dans l’analyse de réseau) et utiliser la fonction `draw`\n",
    ">     de ce package.\n",
    ">\n",
    "> Il s’agit de la transposée de la matrice d’adjacence\n",
    "> qui permet de relier les sites entre eux. Par exemple,\n",
    "> le site 1 (première colonne) est référencé par\n",
    "> les sites 2 et 3. Celui-ci ne référence que le site 5.\n",
    ">\n",
    "> 1.  A partir de la page wikipedia anglaise de `PageRank`, tester\n",
    ">     sur votre matrice."
   ]
  },
  {
   "cell_type": "markdown",
   "id": "6fb696c1-3aec-4d1f-a7d9-e835b5fa436c",
   "metadata": {},
   "source": [
    "Le site 1 est assez central car il est référencé 2 fois. Le site\n",
    "5 est lui également central puisqu’il est référencé par le site 1."
   ]
  }
 ],
 "metadata": {
  "kernelspec": {
   "display_name": "Python 3 (ipykernel)",
   "language": "python",
   "name": "python3",
   "path": "/home/runner/work/python-datascientist/python-datascientist/.venv/share/jupyter/kernels/python3"
  },
  "language_info": {
   "codemirror_mode": {
    "name": "ipython",
    "version": "3"
   },
   "file_extension": ".py",
   "mimetype": "text/x-python",
   "name": "python",
   "nbconvert_exporter": "python",
   "pygments_lexer": "ipython3",
   "version": "3.12.3"
  }
 },
 "nbformat": 4,
 "nbformat_minor": 5
}

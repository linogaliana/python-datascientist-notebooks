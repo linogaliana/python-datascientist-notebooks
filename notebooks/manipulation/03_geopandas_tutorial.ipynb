{
 "cells": [
  {
   "cell_type": "markdown",
   "id": "0da943a0-a883-404e-abec-6dc152fd0411",
   "metadata": {},
   "source": [
    "# Données spatiales : découverte de geopandas\n",
    "\n",
    "Lino Galiana  \n",
    "2025-10-07\n",
    "\n",
    "La partie `GeoPandas` a évolué récemment. Vous pouvez retrouver les contenus liés à `GeoPandas` dans le chapitre suivant (éléments magistraux et exercices):\n",
    "\n",
    "-   [Introduction aux données spatiales avec `Geopandas`](../../content/manipulation/03_geopandas_intro.qmd)"
   ]
  }
 ],
 "metadata": {
  "kernelspec": {
   "display_name": "Python 3",
   "language": "python",
   "name": "python3"
  }
 },
 "nbformat": 4,
 "nbformat_minor": 5
}

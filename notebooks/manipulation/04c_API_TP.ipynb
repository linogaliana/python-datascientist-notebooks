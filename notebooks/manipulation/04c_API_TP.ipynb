{
 "cells": [
  {
   "cell_type": "markdown",
   "id": "7884e78d-044e-4c00-8965-6412082244a8",
   "metadata": {},
   "source": [
    "# Récupérer des données avec des API depuis Python\n",
    "\n",
    "Lino Galiana  \n",
    "2025-10-07\n",
    "\n",
    "<div class=\"badge-container\"><div class=\"badge-text\">Pour essayer les exemples présents dans ce tutoriel :</div><a href=\"https://github.com/linogaliana/python-datascientist-notebooks/blob/main/notebooks/manipulation/04c_API_TP.ipynb\" target=\"_blank\" rel=\"noopener\"><img src=\"https://img.shields.io/static/v1?logo=github&label=&message=View%20on%20GitHub&color=181717\" alt=\"View on GitHub\"></a>\n",
    "<a href=\"https://datalab.sspcloud.fr/launcher/ide/vscode-python?autoLaunch=true&name=«04c_API_TP»&init.personalInit=«https%3A%2F%2Fraw.githubusercontent.com%2Flinogaliana%2Fpython-datascientist%2Fmain%2Fsspcloud%2Finit-vscode.sh»&init.personalInitArgs=«manipulation%2004c_API_TP%20correction»\" target=\"_blank\" rel=\"noopener\"><img src=\"https://custom-icon-badges.demolab.com/badge/SSP%20Cloud-Lancer_avec_VSCode-blue?logo=vsc&logoColor=white\" alt=\"Onyxia\"></a>\n",
    "<a href=\"https://datalab.sspcloud.fr/launcher/ide/jupyter-python?autoLaunch=true&name=«04c_API_TP»&init.personalInit=«https%3A%2F%2Fraw.githubusercontent.com%2Flinogaliana%2Fpython-datascientist%2Fmain%2Fsspcloud%2Finit-jupyter.sh»&init.personalInitArgs=«manipulation%2004c_API_TP%20correction»\" target=\"_blank\" rel=\"noopener\"><img src=\"https://img.shields.io/badge/SSP%20Cloud-Lancer_avec_Jupyter-orange?logo=Jupyter&logoColor=orange\" alt=\"Onyxia\"></a>\n",
    "<a href=\"https://colab.research.google.com/github/linogaliana/python-datascientist-notebooks-colab//blob/main//notebooks/manipulation/04c_API_TP.ipynb\" target=\"_blank\" rel=\"noopener\"><img src=\"https://colab.research.google.com/assets/colab-badge.svg\" alt=\"Open In Colab\"></a><br></div>\n",
    "\n",
    "> **Note**\n",
    ">\n",
    "> Ceci est la version française 🇫🇷 de ce chapitre, pour voir la version anglaise allez <a href=\"/home/runner/work/python-datascientist/python-datascientist/en/content/manipulation/04c_API_TP.qmd\">ici</a>.\n",
    "\n",
    "# 1. Introduction : Qu’est-ce qu’une API ?\n",
    "\n",
    "Nous avons vu dans les chapitres précédents comment consommer des données depuis un fichier (le mode d’accès le plus simple) ou comment récupérer des données par le biais du *webscraping*, une méthode qui permet à `Python` de singer le comportement d’un navigateur web et de récupérer de l’information en moissonnant le HTML auquel accède un site web.\n",
    "\n",
    "Le webscraping est un pis-aller pour accéder à de la donnée. Heureusement, il existe d’autres manières d’accéder à des données : les API de données. En informatique, une API est un ensemble de protocoles permettant à deux logiciels de communiquer entre eux. Par exemple, on parle parfois d’API Pandas ce qui désigne le fait que `Pandas` est une interface entre votre code `Python` et un langage compilé plus efficace (`C`) qui fait les calculs que vous demandez au niveau de `Python`. L’objectif d’une API est ainsi de fournir un point d’accès à une fonctionnalité qui soit facile à utiliser et qui masque les détails de la mise en oeuvre.\n",
    "\n",
    "Dans ce chapitre, nous nous intéressons principalement aux API de données. Ces dernières sont simplement une façon de mettre à disposition des données : plutôt que de laisser l’utilisateur consulter directement des bases de données (souvent volumineuses et complexes), l’API lui propose de formuler une requête qui est traitée par le serveur hébergeant la base de données, puis de recevoir des données en réponse à sa requête.\n",
    "\n",
    "L’utilisation accrue d’API dans le cadre de stratégies open-data est l’un\n",
    "des piliers des 15 feuilles de route ministérielles françaises\n",
    "en matière d’ouverture, de circulation et de valorisation des données publiques.\n",
    "\n",
    "> **Note**\n",
    ">\n",
    "> Depuis quelques années, un service officiel de géocodage a été mis en place pour le territoire français.\n",
    "> Celui-ci est gratuit et permet de manière efficace de coder des adresses\n",
    "> à partir d’une API. Cette API, connue sous le\n",
    "> nom de la **Base d’Adresses Nationale (BAN)** a bénéficié de la mise en commun de données de plusieurs\n",
    "> acteurs (collectivités locales, Poste, IGN) et de compétences d’acteurs\n",
    "> comme Etalab. La documentation de celle-ci est disponible à l’adresse\n",
    "> <https://api.gouv.fr/les-api/base-adresse-nationale>.\n",
    "\n",
    "On prend souvent comme exemple pour illustrer les API l’exemple du restaurant. La documentation est votre menu : elle liste les plats (les bases de données) que vous pouvez commander et les éventuels ingrédients de celle-ci que vous pouvez choisir (les paramètres de votre requête) : poulet, boeuf ou option végé ? Lorsque vous faites ceci, vous ne connaissez pas la recette utilisée en arrière cuisine pour faire votre plat: vous recevez seulement celui-ci. De manière logique, plus le plat que vous avez demandé est raffiné (calculs complexes côté serveur), plus votre plat mettra du temps à vous arriver.\n",
    "\n",
    "> **Illustration avec l’API BAN**\n",
    ">\n",
    "> Pour illustrer ceci, imaginons ce qu’il se passe lorsque, dans la suite du chapitre, nous ferons des requêtes à l’API BAN.\n",
    ">\n",
    "> Via `Python`, on envoie notre commande à celle-ci: des adresses plus ou moins complètes avec des instructions annexes comme le code commune. Ces instructions annexes peuvent s’apparenter à des informations fournies au serveur du restaurant comme des interdits alimentaires qui vont personnaliser la recette.\n",
    ">\n",
    "> A partir de ces instructions, le plat est lancé. En l’occurrence, il s’agit de faire tourner sur les serveurs d’Etalab une routine qui va chercher dans un référentiel d’adresse celle qui est la plus similaire à celle qu’on a demandé en adaptant éventuellement en fonction des instructions annexes qu’on a fourni. Une fois que côté cuisine on a fini cette préparation, on renvoie le plat au client. En l’occurrence, le plat sera des coordonnées géographiques qui correspondent à l’adresse la plus similaire.\n",
    ">\n",
    "> Le client n’a donc qu’à se préoccuper de faire une bonne requête et d’apprécier le plat qui lui est fourni. L’intelligence dans la mise en oeuvre est laissée aux spécialistes qui ont conçu l’API. Peut-être que d’autres spécialistes, par exemple Google Maps, mettent en oeuvre une recette différente pour ce même plat (des coordonnées géographiques) mais ils vous proposeront probablement un menu très similaire. Ceci vous simplifie beaucoup la vie: il vous suffit de changer quelques lignes de code d’appel à une API plutôt que de modifier un ensemble long et complexe de méthodes d’identification d’adresses.\n",
    "\n",
    "## Approche pédagogique\n",
    "\n",
    "Après une première présentation du principe général des API, ce chapitre illustre l’usage de celles-ci via `Python` par le biais d’un *use case* assez standard: on dispose d’un jeu de données qu’on désire d’abord géolocaliser. Pour cela, on va demander à une API de nous renvoyer des coordonnées géographiques à partir d’adresses. Ensuite on ira chercher des informations un peu plus complexes par le biais d’autres API.\n",
    "\n",
    "# 2. Première utilisation d’API\n",
    "\n",
    "Une API a donc vocation à servir d’intermédiaire entre un client et un serveur. Ce client peut être de deux types: une interface web ou un logiciel de programmation. L’API ne fait pas d’*a priori* sur l’outil qui sert lui passe une commande, elle lui demande seulement de respecter un standard (en général une requête http), une structure de requête (les arguments) et d’attendre le résultat.\n",
    "\n",
    "## 2.1 Comprendre le principe avec un exemple interactif\n",
    "\n",
    "Le premier mode (accès par un navigateur) est principalement utilisé lorsqu’une interface web permet à un utilisateur de faire des choix afin de lui renvoyer des résultats correspondant à ceux-ci. Prenons à nouveau l’exemple de l’API de géolocalisation que nous utiliserons dans ce chapitre. Imaginons une interface web permettant à l’utilisateur deux choix: un code postal et une adresse. Cela sera injecté dans la requête et le serveur répondra avec la géolocalisation adaptée.\n",
    "\n",
    "> **Important**\n",
    ">\n",
    "> Une explication interactive est disponible sur [le site du cours](https://pythonds.linogaliana.fr/content/manipulation/04c_API_TP.html).\n",
    "\n",
    "## 2.2 Comment faire avec `Python` ?\n",
    "\n",
    "Le principe est le même sauf que nous perdons l’aspect interactif. Il s’agira donc, avec `Python`, de construire l’URL voulue et d’aller chercher via une requête HTTP le résultat.\n",
    "\n",
    "Nous avons déjà vu dans le chapitre de webscraping la manière dont `Python` communique avec internet: via le *package* `requests`. Ce *package* suit le protocole HTTP où on retrouve principalement deux types de requêtes: `GET` et `POST`:\n",
    "\n",
    "-   La requête `GET` est utilisée pour récupérer des données depuis un serveur web. C’est la méthode la plus simple et courante pour accéder aux ressources d’une page web. Nous allons commencer par décrire celle-ci.\n",
    "-   La requête `POST` est utilisée pour envoyer des données au serveur, souvent dans le but de créer ou de mettre à jour une ressource. Sur les pages web, elle sert souvent à la soumission de formulaires qui nécessitent de mettre à jour des informations sur une base (mot de passe, informations clients, etc.). Nous verrons son utilité plus tard, lorsque nous commencerons à rentrer dans les requêtes authentifiées où il faudra soumettre des informations supplémentaires à notre requête.\n",
    "\n",
    "Faisons un premier test avec `Python` en faisant comme si nous connaissions bien cette API."
   ]
  },
  {
   "cell_type": "code",
   "execution_count": null,
   "id": "cell-ban-first-example",
   "metadata": {},
   "outputs": [
    {
     "data": {
      "text/plain": [
       "<Response [200]>"
      ]
     },
     "metadata": {},
     "output_type": "display_data"
    }
   ],
   "source": [
    "import requests\n",
    "adresse = \"88 avenue verdier\"\n",
    "url_ban_example = f\"https://api-adresse.data.gouv.fr/search/?q={adresse.replace(\" \", \"+\")}&postcode=92120\"\n",
    "requests.get(url_ban_example)"
   ]
  },
  {
   "cell_type": "markdown",
   "id": "8522a957-03c0-4407-829a-bc464fd442d9",
   "metadata": {},
   "source": [
    "Qu’est-ce qu’on obtient ? Un code HTTP. Le code 200 correspond aux requêtes réussies, c’est-à-dire pour lesquelles le serveur est en mesure de répondre. Si ce n’est pas le cas, pour une raison *x* ou *y*, vous aurez un code différent.\n",
    "\n",
    "> **Les codes HTTP**\n",
    ">\n",
    "> Les codes de statut HTTP sont des réponses standard envoyées par les serveurs web pour indiquer le résultat d’une requête effectuée par un client (comme un navigateur ou un script Python). Ils sont classés en différentes catégories selon le premier chiffre du code :\n",
    ">\n",
    "> -   1xx : Informations\n",
    "> -   2xx : Succès\n",
    "> -   3xx : Redirections\n",
    "> -   4xx : Erreurs côté client\n",
    "> -   5xx : Erreurs côté serveur\n",
    ">\n",
    "> Ceux à retenir sont : 200 (succès), 400 (requête mal structurée), 401 (authentification non réussie), 403 (accès interdit), 404 (ressource demandée n’existe pas), 503 (le serveur n’est pas en capacité de répondre)\n",
    "\n",
    "Pour récupérer le contenu renvoyé par `requests`, il existe plusieurs méthodes. Quand on un JSON bien formatté, le plus simple est d’utiliser la méthode `json` qui transforme cela en dictionnaire :"
   ]
  },
  {
   "cell_type": "code",
   "execution_count": null,
   "id": "cell-ban-example-json",
   "metadata": {},
   "outputs": [
    {
     "data": {
      "text/plain": [
       "{'type': 'FeatureCollection',\n",
       " 'features': [{'type': 'Feature',\n",
       "   'geometry': {'type': 'Point', 'coordinates': [2.309144, 48.81622]},\n",
       "   'properties': {'label': '88 Avenue Verdier 92120 Montrouge',\n",
       "    'score': 0.9734299999999999,\n",
       "    'housenumber': '88',\n",
       "    'id': '92049_9625_00088',\n",
       "    'banId': '92dd3c4a-6703-423d-bf09-fc0412fb4f89',\n",
       "    'name': '88 Avenue Verdier',\n",
       "    'postcode': '92120',\n",
       "    'citycode': '92049',\n",
       "    'x': 649270.67,\n",
       "    'y': 6857572.24,\n",
       "    'city': 'Montrouge',\n",
       "    'context': '92, Hauts-de-Seine, Île-de-France',\n",
       "    'type': 'housenumber',\n",
       "    'importance': 0.70773,\n",
       "    'street': 'Avenue Verdier',\n",
       "    '_type': 'address'}}],\n",
       " 'query': '88 avenue verdier'}"
      ]
     },
     "metadata": {},
     "output_type": "display_data"
    }
   ],
   "source": [
    "req = requests.get(url_ban_example)\n",
    "localisation_insee = req.json()\n",
    "localisation_insee"
   ]
  },
  {
   "cell_type": "markdown",
   "id": "bf87f361-0114-444f-b8c9-abcf55826c89",
   "metadata": {},
   "source": [
    "En l’occurrence, on voit que les données sont dans un JSON imbriqué. Il faut donc développer un peu de code pour récupérer les informations voulues dans celui-ci:"
   ]
  },
  {
   "cell_type": "code",
   "execution_count": null,
   "id": "9e396ff1",
   "metadata": {},
   "outputs": [
    {
     "data": {
      "text/plain": [
       "{'label': '88 Avenue Verdier 92120 Montrouge',\n",
       " 'score': 0.9734299999999999,\n",
       " 'housenumber': '88',\n",
       " 'id': '92049_9625_00088',\n",
       " 'banId': '92dd3c4a-6703-423d-bf09-fc0412fb4f89',\n",
       " 'name': '88 Avenue Verdier',\n",
       " 'postcode': '92120',\n",
       " 'citycode': '92049',\n",
       " 'x': 649270.67,\n",
       " 'y': 6857572.24,\n",
       " 'city': 'Montrouge',\n",
       " 'context': '92, Hauts-de-Seine, Île-de-France',\n",
       " 'type': 'housenumber',\n",
       " 'importance': 0.70773,\n",
       " 'street': 'Avenue Verdier',\n",
       " '_type': 'address'}"
      ]
     },
     "metadata": {},
     "output_type": "display_data"
    }
   ],
   "source": [
    "localisation_insee.get('features')[0].get('properties')"
   ]
  },
  {
   "cell_type": "markdown",
   "id": "2b19f5e6-b993-401f-ba21-ea7ece39fbd6",
   "metadata": {},
   "source": [
    "C’est là l’inconvénient principal de l’usage des API: le travail *ex post* sur les données renvoyées. Le code nécessaire est propre à chaque API puisque l’architecture du JSON dépend de chaque API.\n",
    "\n",
    "## 2.3 Comment connaître les *inputs* et *outputs* des API ?\n",
    "\n",
    "Ici on a pris l’API BAN comme un outil magique dont on connaissait les principaux *inputs* (l’*endpoint*, les paramètres et leur formattage…).\n",
    "Mais comment faire, en pratique, pour en arriver là ? Tout simplement en lisant la documentation lorsqu’elle existe et en testant celle-ci via des exemples.\n",
    "\n",
    "Les bonnes API proposent un outil interactif qui s’appelle le [`swagger`](https://swagger.io/docs/). C’est un site web interactif où sont décrites les principales fonctionnalités de l’API et où l’utilisateur peut tester des exemples interactivement. Ces documentations sont souvent créées automatiquement lors de la construction d’une API et mises à disposition par le biais d’un point d’entrée `/docs`. Elles permettent souvent d’éditer certains paramètres dans le navigateur, voir le JSON obtenu (ou l’erreur générée) et récupérer la requête formattée qui permet d’obtenir celui-ci. Ces consoles interactives dans le navigateur permettent de répliquer le tâtonnement qu’on peut faire par ailleurs dans des outils spécialisés comme [`postman`](https://www.postman.com/).\n",
    "\n",
    "Concernant l’API BAN, la documentation se trouve sur <https://adresse.data.gouv.fr/api-doc/adresse>. Elle n’est pas interactive, malheureusement. Mais elle présente de nombreux exemples qui peuvent être testés directement depuis le navigateur. Il suffit d’utiliser les URL proposées comme exemple. Ceux-ci sont présentés par le biais de `curl` (un équivalent de `requests` en ligne de commande Linux):\n",
    "\n",
    "``` python\n",
    "curl \"https://api-adresse.data.gouv.fr/search/?q=8+bd+du+port&limit=15\"\n",
    "```\n",
    "\n",
    "Il suffit de copier l’URL en question (`https://api-adresse.data.gouv.fr/search/?q=8+bd+du+port&limit=15`), d’ouvrir un nouvel onglet et vérifier que cela produit bien un résultat. Puis de changer un paramètre et vérifier à nouveau, jusqu’à trouver la structure qui convient. Et après, on peut passer à `Python` comme le propose l’exercice suivant.\n",
    "\n",
    "## 2.4 Application\n",
    "\n",
    "Pour commencer cet exercice, vous aurez besoin de cette variable:"
   ]
  },
  {
   "cell_type": "code",
   "execution_count": null,
   "id": "adresse-input-first-exercise",
   "metadata": {},
   "outputs": [],
   "source": [
    "adresse = \"88 Avenue Verdier\""
   ]
  },
  {
   "cell_type": "markdown",
   "id": "e2ebc7de-0cbd-471f-8120-3ef4108bafe7",
   "metadata": {},
   "source": [
    "> **Exercice 1: Structurer un appel à une API depuis `Python`**\n",
    ">\n",
    "> 1.  Tester sans aucun autre paramètre, le retour de notre API. Transformer en `DataFrame` le résultat.\n",
    "> 2.  Se restreindre à Montrouge avec le paramètre *ad hoc* et la recherche du code insee ou code postal adéquat sur google.\n",
    "> 3.  (Optionnel): Représenter l’adresse trouvée sur une carte\n",
    "\n",
    "Les deux premières lignes du *dataframe* obtenu à la question 1 devraient être"
   ]
  },
  {
   "cell_type": "markdown",
   "id": "45301491-77e7-4ee1-ada0-d65967fbefd4",
   "metadata": {},
   "source": [
    "A la question 2, on ressort cette fois qu’une seule observation, qu’on pourrait retravailler avec `GeoPandas` pour vérifier qu’on a bien placé ce point sur une carte"
   ]
  },
  {
   "cell_type": "markdown",
   "id": "5c137d4a-00ce-4c9d-8685-5c656e1431f7",
   "metadata": {},
   "source": [
    "Enfin, à la question 3, on obtient cette carte (plus ou moins la même que précédemment):"
   ]
  },
  {
   "cell_type": "markdown",
   "id": "2e820881-28d7-44eb-b60a-36f9bcaa19c1",
   "metadata": {},
   "source": [
    "> **Quelques API à connaître**\n",
    ">\n",
    "> Les principaux fournisseurs de données officielles proposent des API. C’est le cas notamment de l’[Insee](https://api.insee.fr/catalogue/), d’[Eurostat](https://wikis.ec.europa.eu/display/EUROSTATHELP/API+-+Getting+started), de la [BCE](https://data.ecb.europa.eu/help/data-examples), de la [FED](https://fred.stlouisfed.org/docs/api/fred/), de la [Banque Mondiale](https://datahelpdesk.worldbank.org/knowledgebase/topics/125589)…\n",
    ">\n",
    "> Néanmoins, la production de données par les institutions étatiques est loin d’être restreinte aux producteurs de statistiques publiques. Le portail [API gouv](https://api.gouv.fr/) est le point de référencement principal pour les API produites par l’administration centrale française ou des administrations territoriales. De nombreuses villes publient également des données sur leurs infrastructures par le biais d’API, par exemple la [ville de Paris](https://opendata.paris.fr/api/explore/v2.1/console).\n",
    ">\n",
    "> Les producteurs de données privées proposent également des API. Par exemple, la [SNCF](https://data.sncf.com/api) ou la [RATP](https://data.ratp.fr/pages/temps-reel/) proposent des API pour certains usages. Les grands acteurs du numérique, par exemple [`Spotify` ](https://developer.spotify.com/web-api/) proposent généralement des API pour intégrer certains de leurs services à des applications externes.\n",
    ">\n",
    "> Cependant, il faut être conscient des limites de certaines API. En premier lieu, les données partagées ne sont pas forcément très riches pour ne pas compromettre la confidentialité des informations partagées par les utilisateurs du service ou la part de marché du producteur qui n’a pas intérêt à vous partager ses données à forte valeur. Il faut également être conscient du fait qu’une API peut disparaître ou changer de structure du jour au lendemain. Les codes de restructuration de données étant assez adhérents à une structure d’API, on peut se retrouver à devoir changer un volume conséquent de code si une API critique change substantiellement.\n",
    "\n",
    "# 3. Plus d’exemples de requêtes `GET`\n",
    "\n",
    "## 3.1 Source principale\n",
    "\n",
    "Nous allons utiliser comme base principale pour ce tutoriel la [base permanente des équipements](https://www.insee.fr/fr/metadonnees/source/serie/s1161), un répertoire d’équipements publics accueillant du public.\n",
    "\n",
    "On va commencer par récupérer les données qui nous intéressent. On ne récupère pas toutes les variables du fichier mais seulement celles qu’ils nous intéressent: quelques variables sur l’équipement, son adresse et sa commune d’appartement.\n",
    "\n",
    "Nous allons nous restreindre aux établissements d’enseignement primaire, secondaire et supérieur du département de la Haute-Garonne (le département 31). Ces établissements sont identifiés par un code particulier, entre `C1` et `C5`."
   ]
  },
  {
   "cell_type": "code",
   "execution_count": null,
   "id": "cell-read-bpe-parquet",
   "metadata": {},
   "outputs": [
    {
     "data": {
      "application/vnd.jupyter.widget-view+json": {
       "model_id": "5037818317dd42849c1a2bc6fa4106ed",
       "version_major": 2,
       "version_minor": 0
      }
     },
     "metadata": {},
     "output_type": "display_data"
    }
   ],
   "source": [
    "import duckdb\n",
    "\n",
    "query = \"\"\"\n",
    "FROM read_parquet('https://minio.lab.sspcloud.fr/lgaliana/diffusion/BPE23.parquet')\n",
    "SELECT NOMRS, NUMVOIE, INDREP, TYPVOIE, LIBVOIE,\n",
    "       CADR, CODPOS, DEPCOM, DEP, TYPEQU,\n",
    "       concat_ws(' ', NUMVOIE, INDREP, TYPVOIE, LIBVOIE) AS adresse, SIRET\n",
    "WHERE DEP = '31'\n",
    "      AND NOT (starts_with(TYPEQU, 'C6') OR starts_with(TYPEQU, 'C7'))\n",
    "\"\"\"\n",
    "\n",
    "bpe = duckdb.sql(query)\n",
    "bpe = bpe.to_df()"
   ]
  },
  {
   "cell_type": "markdown",
   "id": "125bb04f-2214-4eb3-95e0-db2dd8c10e8c",
   "metadata": {},
   "source": [
    "## 3.2 Récupérer des données à façon grâce aux API\n",
    "\n",
    "Nous avons vu précédemment le principe général d’une requête d’API. Pour illustrer, de manière plus massive, la récupération de données par le biais d’une API, essayons de récupérer des données complémentaires à notre source principale. Nous allons utiliser l’annuaire de l’éducation qui fournit de nombreuses informations sur les établissements scolaires. Nous utiliserons le SIRET pour croiser les deux sources de données.\n",
    "\n",
    "L’exercice suivant viendra illustrer l’intérêt d’utiliser une API pour avoir des données à façon et la simplicité à récupérer celles-ci via `Python`. Néanmoins, cet exercice illustrera également une des limites de certaines API, à savoir la volumétrie des données à récupérer.\n",
    "\n",
    "> **Exercice 2**\n",
    ">\n",
    "> 1.  Visiter le *swagger* de l’API de l’Annuaire de l’Education nationale sur [api.gouv.fr/documentation](https://api.gouv.fr/documentation/api-annuaire-education) et tester une première récupération de données en utilisant le *endpoint* `records` sans aucun paramètre.\n",
    "> 2.  Puisqu’on n’a conservé que les données de la Haute Garonne dans notre base principale, on désire ne récupérer que les établissements de ce département par le biais de notre API. Faire une requête avec le paramètre *ad hoc*, sans en ajouter d’autres.\n",
    "> 3.  Augmenter la limite du nombre de paramètres, voyez-vous le problème ?\n",
    "> 4.  On va tenter de récupérer ces données par le biais de l’API tabular de `data.gouv`. Sa documentation est [ici](https://tabular-api.data.gouv.fr/api/doc) et l’identifiant de la ressource est `b22f04bf-64a8-495d-b8bb-d84dbc4c7983` ([source](https://www.data.gouv.fr/fr/datasets/annuaire-de-leducation/)). Avec l’aide de la documentation, essayer de récupérer des données par le biais de cette API en utilisant le paramètre `Code_departement__exact=031` pour ne garder que le département d’intérêt.\n",
    "> 5.  Voyez-vous le problème et comment nous pourrions automatiser la récupération de données ?\n",
    "\n",
    "La première question nous permet de récupérer un premier jeu de données"
   ]
  },
  {
   "cell_type": "markdown",
   "id": "5b4760c0-99fd-4e43-9ec6-3b31159e8429",
   "metadata": {},
   "source": [
    "Néanmoins, on a deux problèmes : le nombre de lignes et le département d’intérêt. Essayons déjà avec la question 2 de changer ce dernier."
   ]
  },
  {
   "cell_type": "markdown",
   "id": "1611a70a-1b04-45b1-bbae-bacf5000d226",
   "metadata": {},
   "source": [
    "C’est mieux, mais nous avons toujours seulement 10 observations. Si on essaie d’ajuster le nombre de lignes (question 3), on obtient le retour suivant de l’API :"
   ]
  },
  {
   "cell_type": "markdown",
   "id": "c71ce4ae-8933-4cb5-8afc-7c1525576ab0",
   "metadata": {},
   "source": [
    "Essayons avec des données plus exhaustives : le fichier brut sur `data.gouv`. Comme on peut le voir dans les métadonnées, on sait qu’on a plus de 1000 écoles dont on peut récupérer des données, mais qu’on en a ici extrait seulement 20. Le champ `next` nous donne directement l’URL à utiliser pour récupérer les 20 pages suivantes : c’est grâce à lui qu’on a une chance de récupérer toutes nos données d’intérêt.\n",
    "\n",
    "La partie intéressante pour automatiser la récupération de nos données est la clé `links` du JSON :"
   ]
  },
  {
   "cell_type": "markdown",
   "id": "07ece60d-0413-415a-9572-25158239342e",
   "metadata": {},
   "source": [
    "En bouclant sur celui-ci pour parcourir la liste des URL accessibles, on peut récupérer des données. Comme le code d’automatisation est assez fastidieux à écrire, le voici :"
   ]
  },
  {
   "cell_type": "code",
   "execution_count": null,
   "id": "exercise2-api-tabular",
   "metadata": {},
   "outputs": [],
   "source": [
    "import requests\n",
    "import pandas as pd\n",
    "\n",
    "# Initialize the initial API URL\n",
    "url_api_datagouv = \"https://tabular-api.data.gouv.fr/api/resources/b22f04bf-64a8-495d-b8bb-d84dbc4c7983/data/?Code_departement__exact=031&page_size=50\"\n",
    "\n",
    "# Initialize an empty list to store all data entries\n",
    "all_data = []\n",
    "\n",
    "# Initialize the URL for pagination\n",
    "current_url = url_api_datagouv\n",
    "\n",
    "# Loop until there is no next page\n",
    "while current_url:\n",
    "    try:\n",
    "        # Make a GET request to the current URL\n",
    "        response = requests.get(current_url)\n",
    "        response.raise_for_status()  # Raise an exception for HTTP errors\n",
    "\n",
    "        # Parse the JSON response\n",
    "        json_response = response.json()\n",
    "\n",
    "        # Extract data and append to the all_data list\n",
    "        page_data = json_response.get('data', [])\n",
    "        all_data.extend(page_data)\n",
    "        print(f\"Fetched {len(page_data)} records from {current_url}\")\n",
    "\n",
    "        # Get the next page URL\n",
    "        links = json_response.get('links', {})\n",
    "        current_url = links.get('next')  # This will be None if there's no next page\n",
    "\n",
    "    except requests.exceptions.RequestException as e:\n",
    "        print(f\"An error occurred: {e}\")\n",
    "        break"
   ]
  },
  {
   "cell_type": "markdown",
   "id": "22cdcb01-2aa2-4336-913d-f6b2b779342b",
   "metadata": {},
   "source": [
    "Le *DataFrame* obtenu est le suivant:"
   ]
  },
  {
   "cell_type": "code",
   "execution_count": null,
   "id": "901c3341",
   "metadata": {},
   "outputs": [
    {
     "data": {
      "text/html": [
       "\n",
       "<p>5 rows × 73 columns</p>\n",
       "</div>"
      ]
     },
     "metadata": {},
     "output_type": "display_data"
    }
   ],
   "source": [
    "schools_dep31 = pd.DataFrame(all_data)\n",
    "schools_dep31.head()"
   ]
  },
  {
   "cell_type": "markdown",
   "id": "181e9045-df6a-4aeb-9318-1756466e9934",
   "metadata": {},
   "source": [
    "On peut fusionner ces nouvelles données avec nos données précédentes pour enrichir celles-ci. Pour faire une production fiable, il faudrait faire attention aux écoles qui ne s’apparient pas, mais ce n’est pas grave pour cette série d’exercices."
   ]
  },
  {
   "cell_type": "code",
   "execution_count": null,
   "id": "cell-exercise2-bpe-enriched",
   "metadata": {},
   "outputs": [
    {
     "data": {
      "text/html": [
       "\n",
       "<p>2 rows × 85 columns</p>\n",
       "</div>"
      ]
     },
     "metadata": {},
     "output_type": "display_data"
    }
   ],
   "source": [
    "bpe_enriched = bpe.merge(\n",
    "  schools_dep31,\n",
    "  left_on = \"SIRET\",\n",
    "  right_on = \"SIREN_SIRET\"\n",
    ")\n",
    "bpe_enriched.head(2)"
   ]
  },
  {
   "cell_type": "markdown",
   "id": "8b3a4743-9373-43cb-a4e7-c6fd2b0ec8ba",
   "metadata": {},
   "source": [
    "Cela nous donne des données enrichies de nouvelles caractéristiques sur les établissements. Il y a des coordonnées géographiques dans celles-ci, mais nous allons faire comme s’il n’y en avait pas pour réutiliser notre API de géolocalisation.\n",
    "\n",
    "# 4. Découverte des requêtes `POST`\n",
    "\n",
    "## 4.1 Logique\n",
    "\n",
    "Nous avons jusqu’à présent évoqué les requêtes `GET`. Nous allons maintenant présenter les requêtes `POST` qui permettent d’interagir de manière plus complexe avec des serveurs de l’API.\n",
    "\n",
    "Pour découvrir celles-ci, nous allons reprendre l’API de géolocalisation précédente mais utiliser un autre point d’entrée qui nécessite une requête `POST`.\n",
    "\n",
    "Ces dernières sont généralement utilisées quand il est nécessaire d’envoyer des données particulières pour déclencher une action. Par exemple, dans le monde du web, si vous avez une authentification à mettre en oeuvre, une requête `POST` permettra d’envoyer un *token* au serveur qui répondra en acceptant votre authentification.\n",
    "\n",
    "Dans notre cas, nous allons envoyer des données au serveur, ce dernier va les recevoir, les utiliser pour la géolocalisation puis nous envoyer une réponse. Pour continuer sur la métaphore culinaire, c’est comme si vous donniez vous-mêmes à la cuisine un *tupperware* pour récupérer votre plat à emporter.\n",
    "\n",
    "## 4.2 Principe\n",
    "\n",
    "Prenons cette requête proposée sur le site de documentation de l’API de géolocalisation:\n",
    "\n",
    "``` bash\n",
    "curl -X POST -F data=@path/to/file.csv -F columns=voie -F columns=ville -F citycode=ma_colonne_code_insee https://api-adresse.data.gouv.fr/search/csv/\n",
    "```\n",
    "\n",
    "Comme nous avons pu l’évoquer précédemment, `curl` est un outil en ligne de commande qui permet de faire des requêtes API. L’option `-X POST` indique, de manière assez transparente, qu’on désire faire une requête `POST`.\n",
    "\n",
    "Les autres arguments sont passés par le biais des options `-F`. En l’occurrence, on envoie un fichier et on ajoute des paramètres pour aider le serveur à aller chercher la donnée dedans. L’`@` indique que `file.csv` doit être lu sur le disque et envoyé dans le corps de la requête comme une donnée de formulaire.\n",
    "\n",
    "## 4.3 Application avec `Python`\n",
    "\n",
    "Nous avions `requests.get`, il est donc logique que nous ayons `requests.post`. Cette fois, il faudra passer des paramètres à notre requête sous la forme d’un dictionnaire dont les clés sont le nom de l’argument et les valeurs sont des objets `Python`.\n",
    "\n",
    "Le principal défi, illustré dans le prochain exercice, est le passage de l’argument `data`: il faudra renvoyer le fichier comme un objet `Python` par le biais de la fonction `open`.\n",
    "\n",
    "> **Exercice 3: une requête `POST` pour géolocaliser en masse nos données**\n",
    ">\n",
    "> 1.  Enregistrer au format CSV les colonnes `adresse`, `DEPCOM` et `Nom_commune` de la base d’équipements fusionnée avec notre répertoire précédent (objet `bpe_enriched`). Il peut être utile, avant l’écriture au format CSV, de remplacer les virgules dans la colonne `adresse` par des espaces.\n",
    "> 2.  Créer l’objet `response` avec `requests.post` et les bons arguments pour géocoder votre CSV.\n",
    "> 3.  Transformer votre output en objet `geopandas` avec la commande suivante:\n",
    ">\n",
    "> ``` python\n",
    "> bpe_loc = pd.read_csv(io.StringIO(response.text))\n",
    "> ```\n",
    "\n",
    "Les géolocalisations obtenues prennent cette forme"
   ]
  },
  {
   "cell_type": "markdown",
   "id": "9d4a6887-288b-4834-97c8-a81772cf1fd4",
   "metadata": {},
   "source": [
    "En enrichissant les données précédentes, cela donne:"
   ]
  },
  {
   "cell_type": "markdown",
   "id": "1c0042c4-eaf7-4446-b28a-8e071ad3d7d6",
   "metadata": {},
   "source": [
    "On peut vérifier que la géolocalisation ne soit pas trop délirante en comparant avec les longitudes et latitudes de l’annuaire de l’éducation ajouté précédemment:"
   ]
  },
  {
   "cell_type": "markdown",
   "id": "e3856037-020a-4f74-a558-74e9d62afa9a",
   "metadata": {},
   "source": [
    "Sans rentrer dans le détail, les positions semblent très similaires à quelques imprécisions près.\n",
    "\n",
    "Pour profiter de nos données enrichies, on peut faire une carte. Pour ajouter un peu de contexte à celle-ci, on peut mettre un fond de carte des communes en arrière plan. Celui-ci peut être récupéré avec `cartiflette`:"
   ]
  },
  {
   "cell_type": "code",
   "execution_count": null,
   "id": "carti-download",
   "metadata": {},
   "outputs": [
    {
     "name": "stdout",
     "output_type": "stream",
     "text": [
      "This is an experimental version of cartiflette published on PyPi.\n",
      "To use the latest stable version, you can install it directly from GitHub with the following command:\n",
      "pip install git+https://github.com/inseeFrLab/cartiflette.git"
     ]
    }
   ],
   "source": [
    "from cartiflette import carti_download\n",
    "shp_communes = carti_download(\n",
    "  crs = 4326,\n",
    "  values = [\"31\"],\n",
    "  borders=\"COMMUNE\",\n",
    "  vectorfile_format=\"topojson\",\n",
    "  filter_by=\"DEPARTEMENT\",\n",
    "  source=\"EXPRESS-COG-CARTO-TERRITOIRE\",\n",
    "  year=2022\n",
    ")\n",
    "shp_communes.crs = 4326"
   ]
  },
  {
   "cell_type": "markdown",
   "id": "8b4f3575-8db9-46ea-85dc-8849442218b1",
   "metadata": {},
   "source": [
    "Représentées sur une carte, cela donne la carte suivante:"
   ]
  },
  {
   "cell_type": "markdown",
   "id": "5f08dc9a-20a7-4188-8720-47621528e5bd",
   "metadata": {},
   "source": [
    "# 5. Gestion des secrets et des exceptions\n",
    "\n",
    "Nous avons déjà utilisé plusieurs API. Néanmoins ces dernières étaient toutes sans authentification et présentent peu de restrictions, hormis le nombre d’échos. Ce n’est pas le cas de toutes les API. Il est fréquent que les API qui permettent d’aspirer plus de données ou d’accéder à des données confidentielles nécessitent une authentification pour tracer les utilisateurs de données.\n",
    "\n",
    "Cela se fait généralement par le biais d’un *token*. Ce dernier est une sorte de mot de passe, souvent utilisé dans les systèmes modernes d’authentification pour certifier de l’identité d’un utilisateur.trice (cf. [chapitre `Git`](../../content/git/introgit.qmd)).\n",
    "\n",
    "Pour illustrer l’usage des *tokens*, nous allons utiliser une API de l’INPI (Institut national de la protection intellectuelle). Les API développées par cette organisation nécessitent en effet une authentification. Nous allons utiliser cette API pour récupérer des documents PDF issus des comptes sociaux des entreprises.\n",
    "\n",
    "Avant d’en arriver là, nous allons faire un aparté sur la confidentialité des tokens et la manière d’éviter de révéler ceux-ci dans votre code.\n",
    "\n",
    "## 5.1 Utiliser un token dans un code sans le révéler\n",
    "\n",
    "Les tokens sont des informations personnelles qui ne doivent pas être partagées. Ils n’ont pas vocation à être présent dans le code. Comme ceci est évoqué à plusieurs reprises dans le cours de [mise en production](https://ensae-reproductibilite.github.io/website/) que Romain Avouac et moi donnons en 3e année, il est important de séparer le code des éléments de configuration\n",
    "\n",
    "![](https://inseefrlab.github.io/formation-bonnes-pratiques-git-R/slides/img/environment_clean.png)\n",
    "\n",
    "L’idée est de trouver une recette pour apporter les éléments de configuration avec le code mais sans mettre ceux-ci en clair dans le code. L’idée générale sera de stocker la valeur du *token* dans une variable mais ne jamais révéler celle-ci dans le code. Comment faire dès lors pour déclarer la valeur du jeton sans que celui-ci soit apparent dans le code ?\n",
    "\n",
    "-   Pour un code amené à fonctionner de manière interactive (par exemple par le biais d’un *notebook*), il est possible de créer une boite de dialogue qui injectera la valeur renseignée dans une variable. Cela se fait par le biais du package `getpass`.\n",
    "-   Pour le code qui tourne en non interactif, par exemple par le biais de la ligne de commande, l’approche par variable d’environnement est la plus fiable, à condition de faire attention à ne pas mettre le fichier de mot de passe dans `Git`.\n",
    "\n",
    "L’exercice suivant permettra de mettre en oeuvre ces deux méthodes. Ces méthodes nous serviront à ajouter de manière confidentielle un *payload* à des requêtes d’authentification, c’est-à-dire des informations confidentielles identifiantes en complément d’une requête.\n",
    "\n",
    "## 5.2 Application\n",
    "\n",
    "Pour cette application, à partir de la question 4, nous allons avoir besoin de créer une classe spéciale permettant à `requests` de surcharger notre requête d’un jeton d’authentification. Comme elle n’est pas triviale à créer sans connaissance préalable, la voici:"
   ]
  },
  {
   "cell_type": "code",
   "execution_count": null,
   "id": "bearer-token",
   "metadata": {},
   "outputs": [],
   "source": [
    "class BearerAuth(requests.auth.AuthBase):\n",
    "    def __init__(self, token):\n",
    "        self.token = token\n",
    "    def __call__(self, r):\n",
    "        r.headers[\"authorization\"] = \"Bearer \" + self.token\n",
    "        return r"
   ]
  },
  {
   "cell_type": "markdown",
   "id": "ed22d60a-4329-4f1a-95c4-fb1d1c81e25b",
   "metadata": {},
   "source": [
    "Nous allons aussi avoir besoin de cette variable qui correspond au Siren de Decathlon"
   ]
  },
  {
   "cell_type": "code",
   "execution_count": null,
   "id": "aaf4bb6d",
   "metadata": {},
   "outputs": [],
   "source": [
    "siren = \"500569405\""
   ]
  },
  {
   "cell_type": "markdown",
   "id": "ef15023a-41ce-48ac-8890-65fd66978ac2",
   "metadata": {},
   "source": [
    "> **Exercice 4: ajouter un *payload* à une requête**\n",
    ">\n",
    "> 1.  Se créer un compte pour l’API de l’INPI (Institut national de la protection intellectuelle) qui nous servira à récupérer des bilans des comptes sociaux d’entreprises au format PDF.\n",
    "> 2.  Créer les variables `username` et `password` avec `getpass` en faisant en sorte de ne pas rentrer les valeurs dans le code.\n",
    "> 3.  En utilisant la [documentation de l’API](https://www.inpi.fr/sites/default/files/documentation%20technique%20API_comptes_annuels%20v4_0.pdf), l’argument `json` de `requests.post`, récupérer un jeton d’authentification et le stocker dans une variable `token`.\n",
    "> 4.  Récupérer les données en utilisant la *f-string* `f'https://registre-national-entreprises.inpi.fr/api/companies/{siren}/attachments'` et en donnant à `requests` l’argument `auth=BearerAuth(token)`\n",
    "> 5.  Créer `identifier = documents.get('bilans')[0]['id']` et utiliser `requests` avec l’URL `f'https://registre-national-entreprises.inpi.fr/api/bilans/{identifier}/download'`, sans argument, pour récupérer un PDF. Cela a-t-il fonctionné ? Vérifier le *status code*. A quoi correspond-il ? Comment éviter cela ?\n",
    "> 6.  En supposant que l’objet `requests.get` créé s’appelle `r`, écrire l’output de notre API dans un PDF de la manière suivante:\n",
    ">\n",
    "> ``` python\n",
    "> binary_file_path = 'decathlon.pdf'\n",
    "> with open(binary_file_path, 'wb') as f:\n",
    ">     f.write(r.content)\n",
    "> ```\n",
    ">\n",
    "> 1.  Remplacer l’utilisation de `getpass` par l’approche variable d’environnement grâce à [`dotenv`](https://pypi.org/project/python-dotenv/)\n",
    "\n",
    "A la question 5, sans identifiant, on récupère le code erreur 401, qui correspond à *“Unauthorized”*, c’est-à-dire à une requête refusée. Néanmoins, si on ajoute le token comme précédemment, tout se passe bien, on récupère le bilan de Decathlon."
   ]
  },
  {
   "cell_type": "raw",
   "id": "0a5c748a-6e8f-4c69-a3d4-ea9f50b5aadf",
   "metadata": {},
   "source": [
    "<details>"
   ]
  },
  {
   "cell_type": "raw",
   "id": "7349f946-d888-498c-9939-6b8d7903ee8c",
   "metadata": {},
   "source": [
    "<summary>"
   ]
  },
  {
   "cell_type": "markdown",
   "id": "79529274-6302-4a0e-95a5-939ac30b492b",
   "metadata": {},
   "source": [
    "Le PDF récupéré"
   ]
  },
  {
   "cell_type": "raw",
   "id": "018441db-d582-42c5-8786-a9a05f1d9fdb",
   "metadata": {},
   "source": [
    "</summary>"
   ]
  },
  {
   "cell_type": "raw",
   "id": "8f9341d1-cbf0-4f8e-b78e-65747cf6b500",
   "metadata": {},
   "source": [
    "</details>"
   ]
  },
  {
   "cell_type": "markdown",
   "id": "ee42721c-83e8-474e-ab30-4e4276010b2c",
   "metadata": {},
   "source": [
    "> **Important**\n",
    ">\n",
    "> L’approche par variable d’environnement est la plus générale et malléable. Il faut néanmoins bien faire attention à ne pas oublier d’ajouter le `.env` stockant les identifiants dans `Git`. Autrement, vous risquez de révéler des informations identifiantes ce qui annule tout effet positif des bonnes pratiques mises en oeuvre avec `dotenv`.\n",
    ">\n",
    "> Pour cela, la solution est simple : ajouter la ligne `.env` au `.gitignore` et par sécurité `*.env` au cas où le fichier ne soit pas à la racine du dépôt. Pour en savoir plus sur ce fichier `.gitignore`, se rendre sur les [chapitres `Git`](../../content/git/index.qmd).\n",
    "\n",
    "# 6. Ouverture aux API de modèles\n",
    "\n",
    "Nous avons vu jusqu’à présent des API de données. Celles-ci permettent de récupérer du code. Ce n’est néanmoins pas la seule utilisation des API intéressantes pour les utilisateurs de `Python`.\n",
    "\n",
    "Il existe de nombreux autres types d’API. Parmi celles-ci, les API de modèles sont intéressantes. Elles permettent de récupérer des modèles pré-entraînés voire effectuer une phase d’inférence sur des serveurs spécialisés ayant plus de ressources que son ordinateur local (plus d’éléments dans les parties *machine learning* et NLP). La librairie la plus connue dans ce domaine est la librairie [`transformers`](https://pypi.org/project/transformers/) développée par `HuggingFace`.\n",
    "\n",
    "L’un des objectifs du [cours de 3A de mise en production](https://ensae-reproductibilite.github.io/website/) est de montrer comment ce type d’architecture logicielle fonctionne et comment celle-ci peut être créée sur des modèles que vous auriez vous-mêmes créés.\n",
    "\n",
    "# 7. Exercices supplémentaires\n",
    "\n",
    "> **Exercice bonus 1: et si on ajoutait des informations sur la valeur ajoutée des lycées ?**\n",
    ">\n",
    "> Dans notre exemple sur les écoles, se restreindre aux lycées et ajouter les informations sur la valeur ajoutée des lycées disponibles [ici](https://data.education.gouv.fr/explore/dataset/fr-en-indicateurs-de-resultat-des-lycees-denseignement-general-et-technologique/table/?sort=-annee).\n",
    "\n",
    "> **Exercice bonus 2: on sort où ce soir ?**\n",
    ">\n",
    "> Trouver un lieu commun où se retrouver entre amis est toujours l’objet d’âpres négociations: et si on laissait guider par la géographie ?\n",
    ">\n",
    "> 1.  Créer un `DataFrame` enregistrant une série d’adresses et de codes postaux comme l’exemple ci-dessous\n",
    "> 2.  Adapter le code de l’exercice sur l’API BAN, avec l’appui de la documentation, pour géolocaliser ces adresses\n",
    "> 3.  En supposant que vos données géolocalisées se nomment `adresses_geocoded`, utiliser le code proposé pour transformer celles-ci en polygone\n",
    "> 4.  Calculer le centroid et représenter sur une carte interactive `Folium` comme précédemment\n",
    ">\n",
    "> Vous aviez oublié qu’il y avait un couple dans le groupe… Tenir compte de la variable `poids` pour calculer le barycentre et trouver où vous retrouver ce soir.\n",
    ">\n",
    "> <details>\n",
    ">\n",
    "> <summary>\n",
    ">\n",
    "> Créer le polygone à partir des géolocalisations\n",
    ">\n",
    "> </summary>\n",
    ">\n",
    "> ``` python\n",
    "> from shapely.geometry import Polygon\n",
    "> coordinates = list(zip(adresses_geocoded[\"longitude\"], adresses_geocoded[\"latitude\"]))\n",
    "> polygon = Polygon(coordinates)\n",
    ">\n",
    "> polygon = gpd.GeoDataFrame(index=[0], crs=\"epsg:4326\", geometry=[polygon])\n",
    "> polygon\n",
    "> ```\n",
    ">\n",
    "> </details>\n",
    "\n",
    "Le DataFrame d’exemple:"
   ]
  },
  {
   "cell_type": "code",
   "execution_count": null,
   "id": "8dfa529d",
   "metadata": {},
   "outputs": [
    {
     "data": {
      "text/html": [
       "\n",
       "</div>"
      ]
     },
     "metadata": {},
     "output_type": "display_data"
    }
   ],
   "source": [
    "adresses_text = pd.DataFrame(\n",
    "  {\n",
    "    \"adresse\": [\n",
    "        \"10 Rue de Rivoli\",\n",
    "        \"15 Boulevard Saint-Michel\",\n",
    "        \"8 Rue Saint-Honoré\",\n",
    "        \"20 Avenue des Champs-Élysées\",\n",
    "        \"Place de la Bastille\",\n",
    "    ],\n",
    "    \"cp\": [\"75004\", \"75005\", \"75001\", \"75008\", \"75011\"],\n",
    "    \"poids\": [2, 1, 1, 1, 1]\n",
    "})\n",
    "adresses_text"
   ]
  },
  {
   "cell_type": "markdown",
   "id": "19b409e6-7e40-4dc9-910c-1a7583c5a9f3",
   "metadata": {},
   "source": [
    "La géolocalisation obtenue pour cet exemple\n",
    "\n",
    "Voici la carte obtenue sur le jeu d’exemple. On sera peut-être plus au sec avec le barycentre qu’avec le centroid."
   ]
  },
  {
   "cell_type": "raw",
   "id": "762f4d88-1235-47aa-b0f2-b83a037f208d",
   "metadata": {},
   "source": [
    "<!----------\n",
    "API interactive example\n",
    "---------->"
   ]
  }
 ],
 "metadata": {
  "kernelspec": {
   "display_name": "Python 3 (ipykernel)",
   "language": "python",
   "name": "python3",
   "path": "/home/runner/work/python-datascientist/python-datascientist/.venv/share/jupyter/kernels/python3"
  },
  "language_info": {
   "codemirror_mode": {
    "name": "ipython",
    "version": "3"
   },
   "file_extension": ".py",
   "mimetype": "text/x-python",
   "name": "python",
   "nbconvert_exporter": "python",
   "pygments_lexer": "ipython3",
   "version": "3.12.3"
  },
  "widgets": {
   "application/vnd.jupyter.widget-state+json": {
    "state": {
     "1e84c1ea020d451fb8e966bd1d12b495": {
      "model_module": "@jupyter-widgets/base",
      "model_module_version": "2.0.0",
      "model_name": "LayoutModel",
      "state": {
       "_model_module": "@jupyter-widgets/base",
       "_model_module_version": "2.0.0",
       "_model_name": "LayoutModel",
       "_view_count": null,
       "_view_module": "@jupyter-widgets/base",
       "_view_module_version": "2.0.0",
       "_view_name": "LayoutView",
       "align_content": null,
       "align_items": null,
       "align_self": null,
       "border_bottom": null,
       "border_left": null,
       "border_right": null,
       "border_top": null,
       "bottom": null,
       "display": null,
       "flex": null,
       "flex_flow": null,
       "grid_area": null,
       "grid_auto_columns": null,
       "grid_auto_flow": null,
       "grid_auto_rows": null,
       "grid_column": null,
       "grid_gap": null,
       "grid_row": null,
       "grid_template_areas": null,
       "grid_template_columns": null,
       "grid_template_rows": null,
       "height": null,
       "justify_content": null,
       "justify_items": null,
       "left": null,
       "margin": null,
       "max_height": null,
       "max_width": null,
       "min_height": null,
       "min_width": null,
       "object_fit": null,
       "object_position": null,
       "order": null,
       "overflow": null,
       "padding": null,
       "right": null,
       "top": null,
       "visibility": null,
       "width": "auto"
      }
     },
     "5037818317dd42849c1a2bc6fa4106ed": {
      "model_module": "@jupyter-widgets/controls",
      "model_module_version": "2.0.0",
      "model_name": "FloatProgressModel",
      "state": {
       "_dom_classes": [],
       "_model_module": "@jupyter-widgets/controls",
       "_model_module_version": "2.0.0",
       "_model_name": "FloatProgressModel",
       "_view_count": null,
       "_view_module": "@jupyter-widgets/controls",
       "_view_module_version": "2.0.0",
       "_view_name": "ProgressView",
       "bar_style": "",
       "description": "",
       "description_allow_html": false,
       "layout": "IPY_MODEL_1e84c1ea020d451fb8e966bd1d12b495",
       "max": 100,
       "min": 0,
       "orientation": "horizontal",
       "style": "IPY_MODEL_df40a3fb35f547f7bcd744fefaba0e8e",
       "tabbable": null,
       "tooltip": null,
       "value": 100
      }
     },
     "df40a3fb35f547f7bcd744fefaba0e8e": {
      "model_module": "@jupyter-widgets/controls",
      "model_module_version": "2.0.0",
      "model_name": "ProgressStyleModel",
      "state": {
       "_model_module": "@jupyter-widgets/controls",
       "_model_module_version": "2.0.0",
       "_model_name": "ProgressStyleModel",
       "_view_count": null,
       "_view_module": "@jupyter-widgets/base",
       "_view_module_version": "2.0.0",
       "_view_name": "StyleView",
       "bar_color": "black",
       "description_width": ""
      }
     }
    },
    "version_major": 2,
    "version_minor": 0
   }
  }
 },
 "nbformat": 4,
 "nbformat_minor": 5
}

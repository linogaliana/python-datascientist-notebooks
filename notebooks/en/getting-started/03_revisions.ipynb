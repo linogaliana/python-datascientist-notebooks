{
 "cells": [
  {
   "cell_type": "markdown",
   "id": "ed04896b-2984-43a0-9eb8-c7eb72cfb602",
   "metadata": {},
   "source": [
    "# A few refresher exercises to get back in the saddle\n",
    "\n",
    "Lino Galiana  \n",
    "2025-10-07\n",
    "\n",
    "Le contenu de cette page est disponible sur [le site web du cours](pythonds.linogaliana.fr/content/getting-started/04_revisions.html)"
   ]
  }
 ],
 "metadata": {
  "kernelspec": {
   "display_name": "Python 3",
   "language": "python",
   "name": "python3"
  }
 },
 "nbformat": 4,
 "nbformat_minor": 5
}

{
 "cells": [
  {
   "cell_type": "markdown",
   "id": "ffcf4edf-85e5-4485-bca0-5b1d0e70a03d",
   "metadata": {},
   "source": [
    "# Les nouveaux modes d’accès aux données : le format Parquet et les\n",
    "\n",
    "données sur le cloud\n",
    "\n",
    "Lino Galiana  \n",
    "2025-10-07\n",
    "\n",
    "> **Chapitre déplacé**\n",
    ">\n",
    "> Le programme du cours a été modifié. Ce chapitre se trouve maintenant dans la partie [Manipulation de données](../../content/manipulation/05_parquet_s3.qmd)"
   ]
  }
 ],
 "metadata": {
  "kernelspec": {
   "display_name": "Python 3",
   "language": "python",
   "name": "python3"
  }
 },
 "nbformat": 4,
 "nbformat_minor": 5
}

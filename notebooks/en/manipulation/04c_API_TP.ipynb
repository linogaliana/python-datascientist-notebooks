{
 "cells": [
  {
   "cell_type": "markdown",
   "id": "1c32c82e-d38b-4726-b26c-4c3a5d73f983",
   "metadata": {},
   "source": [
    "# Retrieve data with APIs from Python\n",
    "\n",
    "Lino Galiana  \n",
    "2025-10-07\n",
    "\n",
    "<div class=\"badge-container\"><div class=\"badge-text\">If you want to try the examples in this tutorial:</div><a href=\"https://github.com/linogaliana/python-datascientist-notebooks/blob/main/notebooks/en/manipulation/04c_API_TP.ipynb\" target=\"_blank\" rel=\"noopener\"><img src=\"https://img.shields.io/static/v1?logo=github&label=&message=View%20on%20GitHub&color=181717\" alt=\"View on GitHub\"></a>\n",
    "<a href=\"https://datalab.sspcloud.fr/launcher/ide/vscode-python?autoLaunch=true&name=«04c_API_TP»&init.personalInit=«https%3A%2F%2Fraw.githubusercontent.com%2Flinogaliana%2Fpython-datascientist%2Fmain%2Fsspcloud%2Finit-vscode.sh»&init.personalInitArgs=«en/manipulation%2004c_API_TP%20correction»\" target=\"_blank\" rel=\"noopener\"><img src=\"https://custom-icon-badges.demolab.com/badge/SSP%20Cloud-Lancer_avec_VSCode-blue?logo=vsc&logoColor=white\" alt=\"Onyxia\"></a>\n",
    "<a href=\"https://datalab.sspcloud.fr/launcher/ide/jupyter-python?autoLaunch=true&name=«04c_API_TP»&init.personalInit=«https%3A%2F%2Fraw.githubusercontent.com%2Flinogaliana%2Fpython-datascientist%2Fmain%2Fsspcloud%2Finit-jupyter.sh»&init.personalInitArgs=«en/manipulation%2004c_API_TP%20correction»\" target=\"_blank\" rel=\"noopener\"><img src=\"https://img.shields.io/badge/SSP%20Cloud-Lancer_avec_Jupyter-orange?logo=Jupyter&logoColor=orange\" alt=\"Onyxia\"></a>\n",
    "<a href=\"https://colab.research.google.com/github/linogaliana/python-datascientist-notebooks-colab//en/blob/main//notebooks/en/manipulation/04c_API_TP.ipynb\" target=\"_blank\" rel=\"noopener\"><img src=\"https://colab.research.google.com/assets/colab-badge.svg\" alt=\"Open In Colab\"></a><br></div>\n",
    "\n",
    "> **Note**\n",
    ">\n",
    "> Ceci est la version française 🇫🇷 de ce chapitre, pour voir la version anglaise allez <a href=\"/home/runner/work/python-datascientist/python-datascientist/en/content/manipulation/04c_API_TP.qmd\">ici</a>.\n",
    "\n",
    "# 1. Introduction: What is an API?\n",
    "\n",
    "In the previous chapters, we saw how to consume data from a file (the simplest access mode) or how to retrieve data through web scraping, a method that allows `Python` to mimic the behavior of a web browser and extract information by harvesting the HTML that a website serves.\n",
    "\n",
    "Web scraping is a makeshift approach to accessing data. Fortunately, there are other ways to access data: data APIs. In computing, an API is a set of protocols that enables two software systems to communicate with each other. For example, the term “Pandas API” is sometimes used to indicate that `Pandas` serves as an interface between your `Python` code and a more efficient compiled language (`C`) that performs the calculations you request at the Python level. The goal of an API is to provide a simple access point to a functionality while hiding the implementation details.\n",
    "\n",
    "In this chapter, we focus mainly on data APIs. They are simply a way to make data available: rather than allowing the user direct access to databases (often large and complex), the API invites them to formulate a query which is processed by the server hosting the database, and then returns data in response to that query.\n",
    "\n",
    "The increased use of APIs in the context of open data strategies is one of the pillars of the 15 French ministerial roadmaps regarding the opening, circulation, and valorization of public data.\n",
    "\n",
    "> **Note**\n",
    ">\n",
    "> In recent years, an official geocoding service has been established for French territory. It is free and efficiently allows addresses to be geocoded via an API. This API, known as the **National Address Database (BAN)**, has benefited from the pooling of data from various stakeholders (local authorities, postal services, IGN) as well as the expertise of contributors like Etalab. Its documentation is available at <https://api.gouv.fr/les-api/base-adresse-nationale>.\n",
    "\n",
    "A common example used to illustrate APIs is that of a restaurant. The documentation is like your menu: it lists the dishes (databases) that you can order and any optional ingredients you can choose (the parameters of your query): chicken, beef, or a vegetarian option? When you order, you don’t get to see the recipe used in the kitchen to prepare your dish – you simply receive the finished product. Naturally, the more refined the dish you request (i.e. involving complex calculations on the server side), the longer it will take to arrive.\n",
    "\n",
    "> **Illustration with the BAN API**\n",
    ">\n",
    "> To illustrate this, let’s imagine what happens when, later in the chapter, we make requests to the BAN API.\n",
    ">\n",
    "> Using `Python`, we send our order to the API: addresses that are more or less complete, along with additional instructions such as the municipality code. These extra details are akin to information provided to a restaurant’s server—like dietary restrictions—which personalize the recipe.\n",
    ">\n",
    "> Based on these instructions, the dish is prepared. Specifically, a routine is executed on Etalab’s servers that searches an address repository for the one most similar to the address requested, possibly adapting based on the additional details provided. Once the kitchen has completed this preparation, the dish is sent back to the client. In this case, the “dish” consists of geographic coordinates corresponding to the best matching address.\n",
    ">\n",
    "> Thus, the client only needs to focus on submitting a proper query and enjoying the dish delivered. The complexity of the process is handled by the specialists who designed the API. Perhaps other specialists, such as those at Google Maps, implement a different recipe for the same dish (geographic coordinates), but they will likely offer a very similar menu. This greatly simplifies your work: you only need to change a few lines of API call code rather than overhauling a long and complex set of address identification methods.\n",
    "\n",
    "## Pedagogical Approach\n",
    "\n",
    "After an initial presentation of the general principle of APIs, this chapter illustrates their use through `Python` via a fairly standard use case: we have a dataset that we first want to geolocate. To do this, we will ask an API to return geographic coordinates based on addresses. Later, we will retrieve somewhat more complex information through other APIs.\n",
    "\n",
    "# 2. First Use of APIs\n",
    "\n",
    "An API is intended to serve as an intermediary between a client and a server. This client can be of two types: a web interface or programming software. The API makes no assumptions about the tool sending it a command; it simply requires adherence to a standard (usually an HTTP request), a query structure (the arguments), and then awaits the result.\n",
    "\n",
    "## 2.1 Understanding the Principle with an Interactive Example\n",
    "\n",
    "The first mode (access via a browser) is primarily used when a web interface allows a user to make choices in order to return results corresponding to those selections. Let’s revisit the example of the geolocation API that we will use in this chapter. Imagine a web interface that offers the user two choices: a postal code and an address. These inputs will be injected into the query, and the server will respond with the appropriate geolocation.\n",
    "\n",
    "> **Important**\n",
    ">\n",
    "> An interactive explanation is available on [the course website](https://pythonds.linogaliana.fr/content/manipulation/04c_API_TP.html).\n",
    "\n",
    "## 2.2 How to Do It with `Python`?\n",
    "\n",
    "The principle is the same, although we lose the interactive aspect. With `Python`, the idea is to construct the desired URL and fetch the result through an HTTP request.\n",
    "\n",
    "We have already seen in the web scraping chapter how `Python` communicates with the internet via the `requests` package. This package follows the HTTP protocol where two main types of requests can be found: `GET` and `POST`:\n",
    "\n",
    "-   The `GET` request is used to retrieve data from a web server. It is the simplest and most common method for accessing the resources on a web page. We will start by describing this one.\n",
    "-   The `POST` request is used to send data to the server, often with the goal of creating or updating a resource. On web pages, it is commonly used for submitting forms that need to update information in a database (passwords, customer data, etc.). We will see its usefulness later, when we begin to deal with authenticated requests where additional information must be submitted with our query.\n",
    "\n",
    "Let’s conduct a first test with `Python` as if we were already familiar with this API."
   ]
  },
  {
   "cell_type": "code",
   "execution_count": null,
   "id": "cell-ban-first-example",
   "metadata": {},
   "outputs": [
    {
     "data": {
      "text/plain": [
       "<Response [200]>"
      ]
     },
     "metadata": {},
     "output_type": "display_data"
    }
   ],
   "source": [
    "import requests\n",
    "adresse = \"88 avenue verdier\"\n",
    "url_ban_example = f\"https://api-adresse.data.gouv.fr/search/?q={adresse.replace(\" \", \"+\")}&postcode=92120\"\n",
    "requests.get(url_ban_example)"
   ]
  },
  {
   "cell_type": "markdown",
   "id": "ecccaaa9-9fa8-4553-892b-8574c07d1de7",
   "metadata": {},
   "source": [
    "What do we get? An HTTP code. The code 200 corresponds to successful requests, meaning that the server is able to respond. If this is not the case, for some reason *x* or *y*, you will receive a different code.\n",
    "\n",
    "> **HTTP Status Codes**\n",
    ">\n",
    "> HTTP status codes are standard responses sent by web servers to indicate the result of a request made by a client (such as a web browser or a Python script). They are categorized based on the first digit of the code:\n",
    ">\n",
    "> -   1xx: Informational\n",
    "> -   2xx: Success\n",
    "> -   3xx: Redirection\n",
    "> -   4xx: Client-side Errors\n",
    "> -   5xx: Server-side Errors\n",
    ">\n",
    "> The key codes to remember are: 200 (success), 400 (bad request), 401 (authentication failed), 403 (forbidden), 404 (resource not found), 503 (the server is unable to respond)\n",
    "\n",
    "To retrieve the content returned by `requests`, there are several methods available. When the JSON is well-formatted, the simplest approach is to use the `json` method, which converts it into a dictionary:"
   ]
  },
  {
   "cell_type": "code",
   "execution_count": null,
   "id": "cell-ban-example-json",
   "metadata": {},
   "outputs": [
    {
     "data": {
      "text/plain": [
       "{'type': 'FeatureCollection',\n",
       " 'features': [{'type': 'Feature',\n",
       "   'geometry': {'type': 'Point', 'coordinates': [2.309144, 48.81622]},\n",
       "   'properties': {'label': '88 Avenue Verdier 92120 Montrouge',\n",
       "    'score': 0.9734299999999999,\n",
       "    'housenumber': '88',\n",
       "    'id': '92049_9625_00088',\n",
       "    'banId': '92dd3c4a-6703-423d-bf09-fc0412fb4f89',\n",
       "    'name': '88 Avenue Verdier',\n",
       "    'postcode': '92120',\n",
       "    'citycode': '92049',\n",
       "    'x': 649270.67,\n",
       "    'y': 6857572.24,\n",
       "    'city': 'Montrouge',\n",
       "    'context': '92, Hauts-de-Seine, Île-de-France',\n",
       "    'type': 'housenumber',\n",
       "    'importance': 0.70773,\n",
       "    'street': 'Avenue Verdier',\n",
       "    '_type': 'address'}}],\n",
       " 'query': '88 avenue verdier'}"
      ]
     },
     "metadata": {},
     "output_type": "display_data"
    }
   ],
   "source": [
    "req = requests.get(url_ban_example)\n",
    "localisation_insee = req.json()\n",
    "localisation_insee"
   ]
  },
  {
   "cell_type": "markdown",
   "id": "9e848511-4a2b-40b0-b035-cdb3b000d7a7",
   "metadata": {},
   "source": [
    "In this case, we can see that the data is nested within a JSON. Therefore, a bit of code needs to be written to extract the desired information from it:"
   ]
  },
  {
   "cell_type": "code",
   "execution_count": null,
   "id": "704ce98c",
   "metadata": {},
   "outputs": [
    {
     "data": {
      "text/plain": [
       "{'label': '88 Avenue Verdier 92120 Montrouge',\n",
       " 'score': 0.9734299999999999,\n",
       " 'housenumber': '88',\n",
       " 'id': '92049_9625_00088',\n",
       " 'banId': '92dd3c4a-6703-423d-bf09-fc0412fb4f89',\n",
       " 'name': '88 Avenue Verdier',\n",
       " 'postcode': '92120',\n",
       " 'citycode': '92049',\n",
       " 'x': 649270.67,\n",
       " 'y': 6857572.24,\n",
       " 'city': 'Montrouge',\n",
       " 'context': '92, Hauts-de-Seine, Île-de-France',\n",
       " 'type': 'housenumber',\n",
       " 'importance': 0.70773,\n",
       " 'street': 'Avenue Verdier',\n",
       " '_type': 'address'}"
      ]
     },
     "metadata": {},
     "output_type": "display_data"
    }
   ],
   "source": [
    "localisation_insee.get('features')[0].get('properties')"
   ]
  },
  {
   "cell_type": "markdown",
   "id": "68d97528-7ac5-47d8-91e2-82dcc25cfc54",
   "metadata": {},
   "source": [
    "This is the main disadvantage of using APIs: the post-processing of the returned data. The necessary code is specific to each API, since the structure of the JSON depends on the API.\n",
    "\n",
    "## 2.3 How to Know the *Inputs* and *Outputs* of APIs?\n",
    "\n",
    "Here, we took the BAN API as a magical tool whose main *inputs* (the endpoint, parameters, and their formatting…) were known.\n",
    "But how does one actually get there in practice? Simply by reading the documentation when it exists and testing it with examples.\n",
    "\n",
    "Good APIs provide an interactive tool called [`swagger`](https://swagger.io/docs/). It is an interactive website where the API’s main features are described and where the user can interactively test examples. These documentations are often automatically created during the construction of an API and made available via an entry point `/docs`. They often allow you to edit certain parameters in the browser, view the obtained JSON (or the generated error), and retrieve the formatted query that produced it. These interactive browser consoles replicate the experimentation that can otherwise be done using specialized tools like [`postman`](https://www.postman.com/).\n",
    "\n",
    "Regarding the BAN API, the documentation can be found at <https://adresse.data.gouv.fr/api-doc/adresse>. Unfortunately, it is not interactive. However, it provides many examples that can be directly tested from the browser. You simply need to use the URLs provided as examples. These are presented using `curl` (a command-line equivalent of `requests` in Linux):\n",
    "\n",
    "``` python\n",
    "curl \"https://api-adresse.data.gouv.fr/search/?q=8+bd+du+port&limit=15\"\n",
    "```\n",
    "\n",
    "Just copy the URL (`https://api-adresse.data.gouv.fr/search/?q=8+bd+du+port&limit=15`), open a new tab, and verify that it produces a result. Then change a parameter and check again until you find the structure that fits. After that, you can move on to `Python` as suggested in the following exercise.\n",
    "\n",
    "## 2.4 Application\n",
    "\n",
    "To start this exercise, you will need the following variable:"
   ]
  },
  {
   "cell_type": "code",
   "execution_count": null,
   "id": "adresse-input-exo1",
   "metadata": {},
   "outputs": [],
   "source": [
    "adresse = \"88 Avenue Verdier\""
   ]
  },
  {
   "cell_type": "markdown",
   "id": "d1ae0267-35a4-4a3d-ab8d-8c9e475844fd",
   "metadata": {},
   "source": [
    "> **Exercise 1: Structure an API Call from `Python`**\n",
    ">\n",
    "> 1.  Test the API without any additional parameters, and convert the result into a `DataFrame`.\n",
    "> 2.  Limit the search to Montrouge using the appropriate parameter and find the corresponding INSEE code or postal code via Google.\n",
    "> 3.  (Optional): Display the found address on a map.\n",
    "\n",
    "The first two rows of the `DataFrame` obtained in question 1 should be"
   ]
  },
  {
   "cell_type": "markdown",
   "id": "75b2e8ef-dcd0-4c16-942a-ac112dcbf485",
   "metadata": {},
   "source": [
    "For question 2, this time we get back only one observation, which could be further processed with `GeoPandas` to verify that the point has been correctly placed on a map."
   ]
  },
  {
   "cell_type": "markdown",
   "id": "19eae0c4-6f5e-4867-b72a-1a652812e997",
   "metadata": {},
   "source": [
    "Finally, for question 3, we obtain this map (more or less the same as before):"
   ]
  },
  {
   "cell_type": "markdown",
   "id": "bcba6add-6d13-4caf-b821-50905809f3df",
   "metadata": {},
   "source": [
    "> **Some APIs to Know**\n",
    ">\n",
    "> The main providers of official data offer APIs. This is notably the case for [Insee](https://api.insee.fr/catalogue/), [Eurostat](https://wikis.ec.europa.eu/display/EUROSTATHELP/API+-+Getting+started), the [ECB](https://data.ecb.europa.eu/help/data-examples), [FED](https://fred.stlouisfed.org/docs/api/fred/), and the [World Bank](https://datahelpdesk.worldbank.org/knowledgebase/topics/125589)…\n",
    ">\n",
    "> However, data production by state institutions is far from limited to public statistics producers. The [API gouv](https://api.gouv.fr/) portal serves as the main reference point for APIs produced by the French central administration or territorial authorities. Many cities also publish data about their infrastructures via APIs, for example the [City of Paris](https://opendata.paris.fr/api/explore/v2.1/console).\n",
    ">\n",
    "> Private data providers also offer APIs. For instance, [SNCF](https://data.sncf.com/api) or [RATP](https://data.ratp.fr/pages/temps-reel/) provide APIs for various purposes. Major digital players, such as [`Spotify` ](https://developer.spotify.com/web-api/), generally offer APIs to integrate some of their services into external applications.\n",
    ">\n",
    "> That said, it is important to be aware of the limitations of certain APIs. First, the data shared may not be very detailed so as not to compromise the confidentiality of the users’ information or the market share of the provider, which may have little incentive to share high-value data. Additionally, an API can disappear or change its structure overnight. Since data restructuring code is often closely tied to an API’s structure, you might end up having to modify a significant amount of code if a critical API undergoes a substantial change.\n",
    "\n",
    "# 3. More Examples of `GET` Requests\n",
    "\n",
    "## 3.1 Main Source\n",
    "\n",
    "We will use as the main basis for this tutorial the [permanent equipment database](https://www.insee.fr/fr/metadonnees/source/serie/s1161), a directory of public facilities open to the public.\n",
    "\n",
    "We will begin by retrieving the data that interest us. Rather than fetching every variable in the file, we only retrieve the ones we need: some variables concerning the facility, its address, and its local municipality.\n",
    "\n",
    "We will restrict our scope to primary, secondary, and higher education institutions in the department of Haute-Garonne (department 31). These facilities are identified by a specific code, ranging from `C1` to `C5`."
   ]
  },
  {
   "cell_type": "code",
   "execution_count": null,
   "id": "cell-read-bpe-parquet",
   "metadata": {},
   "outputs": [
    {
     "data": {
      "application/vnd.jupyter.widget-view+json": {
       "model_id": "f8b5518ee44543919ac86d95825aeba1",
       "version_major": 2,
       "version_minor": 0
      }
     },
     "metadata": {},
     "output_type": "display_data"
    }
   ],
   "source": [
    "import duckdb\n",
    "\n",
    "query = \"\"\"\n",
    "FROM read_parquet('https://minio.lab.sspcloud.fr/lgaliana/diffusion/BPE23.parquet')\n",
    "SELECT NOMRS, NUMVOIE, INDREP, TYPVOIE, LIBVOIE,\n",
    "       CADR, CODPOS, DEPCOM, DEP, TYPEQU,\n",
    "       concat_ws(' ', NUMVOIE, INDREP, TYPVOIE, LIBVOIE) AS adresse, SIRET\n",
    "WHERE DEP = '31'\n",
    "      AND NOT (starts_with(TYPEQU, 'C6') OR starts_with(TYPEQU, 'C7'))\n",
    "\"\"\"\n",
    "\n",
    "bpe = duckdb.sql(query)\n",
    "bpe = bpe.to_df()"
   ]
  },
  {
   "cell_type": "markdown",
   "id": "f8905815-ac69-4eb0-bcc1-59f80beb3e86",
   "metadata": {},
   "source": [
    "## 3.2 Retrieving Custom Data via APIs\n",
    "\n",
    "We previously covered the general principle of an API request. To further illustrate how to retrieve data on a larger scale using an API, let’s try to fetch supplementary data to our main source. We will use the education directory, which provides extensive information on educational institutions. We will use the SIRET number to cross-reference the two data sources.\n",
    "\n",
    "The following exercise will demonstrate the advantage of using an API to obtain custom data and the ease of fetching it via `Python`. However, this exercise will also highlight one of the limitations of certain APIs, namely the volume of data that needs to be retrieved.\n",
    "\n",
    "> **Exercise 2**\n",
    ">\n",
    "> 1.  Visit the *swagger* of the National Education Directory API on [api.gouv.fr/documentation](https://api.gouv.fr/documentation/api-annuaire-education) and test an initial data retrieval using the `records` endpoint without any parameters.\n",
    "> 2.  Since we have retained only data from Haute Garonne in our main database, we want to retrieve only the institutions from that department using our API. Make a query with the appropriate parameter, without adding any extras.\n",
    "> 3.  Increase the limit on the number of parameters—do you see the problem?\n",
    "> 4.  We will attempt to retrieve these data via the `data.gouv` Tabular API. Its documentation is [here](https://tabular-api.data.gouv.fr/api/doc) and the resource identifier is `b22f04bf-64a8-495d-b8bb-d84dbc4c7983` ([source](https://www.data.gouv.fr/fr/datasets/annuaire-de-leducation/)). With the help of the documentation, try to retrieve data via this API using the parameter `Code_departement__exact=031` to select only the department of interest.\n",
    "> 5.  Do you see the problem and how we could automate data retrieval?\n",
    "\n",
    "The first question allows us to retrieve an initial dataset."
   ]
  },
  {
   "cell_type": "markdown",
   "id": "c54abd90-3530-47f9-957f-defc9f37aa2c",
   "metadata": {},
   "source": [
    "However, there are two issues: the number of rows and the department of interest. Let’s first address the latter with question 2."
   ]
  },
  {
   "cell_type": "markdown",
   "id": "1775b74b-581c-4050-b58c-32686c70c83e",
   "metadata": {},
   "source": [
    "This is better, but we still only have 10 observations. If we try to adjust the number of rows (question 3), we get the following response from the API:"
   ]
  },
  {
   "cell_type": "markdown",
   "id": "7f918580-745b-49ae-8690-4da52a9e4dd9",
   "metadata": {},
   "source": [
    "Let’s try using more comprehensive data: the raw file on `data.gouv`. As seen in the metadata, we know there are over 1,000 schools for which data can be retrieved, but only 20 have been extracted here. The `next` field directly provides the URL to fetch the next 20 pages: this is how we can ensure we retrieve all our data of interest.\n",
    "\n",
    "The key part for automating the retrieval of our data is the `links` key in the JSON:"
   ]
  },
  {
   "cell_type": "markdown",
   "id": "e3995e97-cfef-4d59-9e35-34120cbdf658",
   "metadata": {},
   "source": [
    "By looping over it to traverse the list of accessible URLs, we can retrieve the data. Since the automation code is rather tedious to write, here it is:"
   ]
  },
  {
   "cell_type": "code",
   "execution_count": null,
   "id": "exercise2-api-tabular",
   "metadata": {},
   "outputs": [],
   "source": [
    "import requests\n",
    "import pandas as pd\n",
    "\n",
    "# Initialize the initial API URL\n",
    "url_api_datagouv = \"https://tabular-api.data.gouv.fr/api/resources/b22f04bf-64a8-495d-b8bb-d84dbc4c7983/data/?Code_departement__exact=031&page_size=50\"\n",
    "\n",
    "# Initialize an empty list to store all data entries\n",
    "all_data = []\n",
    "\n",
    "# Initialize the URL for pagination\n",
    "current_url = url_api_datagouv\n",
    "\n",
    "# Loop until there is no next page\n",
    "while current_url:\n",
    "    try:\n",
    "        # Make a GET request to the current URL\n",
    "        response = requests.get(current_url)\n",
    "        response.raise_for_status()  # Raise an exception for HTTP errors\n",
    "\n",
    "        # Parse the JSON response\n",
    "        json_response = response.json()\n",
    "\n",
    "        # Extract data and append to the all_data list\n",
    "        page_data = json_response.get('data', [])\n",
    "        all_data.extend(page_data)\n",
    "        print(f\"Fetched {len(page_data)} records from {current_url}\")\n",
    "\n",
    "        # Get the next page URL\n",
    "        links = json_response.get('links', {})\n",
    "        current_url = links.get('next')  # This will be None if there's no next page\n",
    "\n",
    "    except requests.exceptions.RequestException as e:\n",
    "        print(f\"An error occurred: {e}\")\n",
    "        break"
   ]
  },
  {
   "cell_type": "markdown",
   "id": "a7ed703a-4ffa-4f90-be9f-0bf688939a52",
   "metadata": {},
   "source": [
    "The resulting *DataFrame* is as follows:"
   ]
  },
  {
   "cell_type": "code",
   "execution_count": null,
   "id": "e0a6ed4d",
   "metadata": {},
   "outputs": [
    {
     "data": {
      "text/html": [
       "\n",
       "<p>5 rows × 73 columns</p>\n",
       "</div>"
      ]
     },
     "metadata": {},
     "output_type": "display_data"
    }
   ],
   "source": [
    "schools_dep31 = pd.DataFrame(all_data)\n",
    "schools_dep31.head()"
   ]
  },
  {
   "cell_type": "markdown",
   "id": "96f6136e-235c-4215-b60b-e3f35f1123f3",
   "metadata": {},
   "source": [
    "We can merge this new data with our previous dataset to enrich it. For reliable production, care should be taken with schools that do not match, but this is not critical for this series of exercises."
   ]
  },
  {
   "cell_type": "code",
   "execution_count": null,
   "id": "cell-exercise2-bpe-enriched",
   "metadata": {},
   "outputs": [
    {
     "data": {
      "text/html": [
       "\n",
       "<p>2 rows × 85 columns</p>\n",
       "</div>"
      ]
     },
     "metadata": {},
     "output_type": "display_data"
    }
   ],
   "source": [
    "bpe_enriched = bpe.merge(\n",
    "  schools_dep31,\n",
    "  left_on = \"SIRET\",\n",
    "  right_on = \"SIREN_SIRET\"\n",
    ")\n",
    "bpe_enriched.head(2)"
   ]
  },
  {
   "cell_type": "markdown",
   "id": "4988dda4-472b-406d-9d6c-2afd49d70409",
   "metadata": {},
   "source": [
    "This provides us with data enriched with new characteristics about the institutions. Although there are geographic coordinates in the dataset, we will pretend there aren’t to reuse our geolocation API.\n",
    "\n",
    "# 4. Discovering `POST` Requests\n",
    "\n",
    "## 4.1 Logic\n",
    "\n",
    "So far, we have discussed `GET` requests. Now, we will introduce `POST` requests, which allow for more complex interactions with API servers.\n",
    "\n",
    "To explore this, we will revisit the previous geolocation API but use a different endpoint that requires a `POST` request.\n",
    "\n",
    "`POST` requests are typically used when specific data needs to be sent to trigger an action. For instance, in the web world, if authentication is required, a `POST` request can send a token to the server, which will respond by accepting your authentication.\n",
    "\n",
    "In our case, we will send data to the server, which will process it for geolocation and then send us a response. To continue the culinary metaphor, it’s like handing over your own container (*tupperware*) to the kitchen to collect your takeaway meal.\n",
    "\n",
    "## 4.2 Principle\n",
    "\n",
    "Let’s look at this request provided on the geolocation API’s documentation site:\n",
    "\n",
    "``` bash\n",
    "curl -X POST -F data=@path/to/file.csv -F columns=voie -F columns=ville -F citycode=ma_colonne_code_insee https://api-adresse.data.gouv.fr/search/csv/\n",
    "```\n",
    "\n",
    "As mentioned earlier, `curl` is a command-line tool for making API requests. The `-X POST` option clearly indicates that we want to make a `POST` request.\n",
    "\n",
    "Other arguments are passed using the `-F` options. In this case, we are sending a file and adding parameters to help the server locate the data inside it. The `@` symbol indicates that `file.csv` should be read from the disk and sent in the request body as form data.\n",
    "\n",
    "## 4.3 Application with `Python`\n",
    "\n",
    "We have `requests.get`, so naturally, we also have `requests.post`. This time, parameters must be passed to our request as a dictionary, where the keys are argument names and the values are `Python` objects.\n",
    "\n",
    "The main challenge, illustrated in the next exercise, lies in passing the `data` argument: the file must be sent as a `Python` object using the `open` function.\n",
    "\n",
    "> **Exercise 3: A `POST` request to geolocate our data in bulk**\n",
    ">\n",
    "> 1.  Save the `adresse`, `DEPCOM`, and `Nom_commune` columns of the equipment database merged with our previous directory (object `bpe_enriched`) in CSV format. Before writing to CSV, it may be helpful to replace commas in the `adresse` column with spaces.\n",
    "> 2.  Create the `response` object using `requests.post` with the correct arguments to geocode your CSV.\n",
    "> 3.  Transform your output into a `geopandas` object using the following command:\n",
    ">\n",
    "> ``` python\n",
    "> bpe_loc = pd.read_csv(io.StringIO(response.text))\n",
    "> ```\n",
    "\n",
    "The obtained geolocations take this form"
   ]
  },
  {
   "cell_type": "markdown",
   "id": "dcf62056-7c5e-4205-896d-e88bcfe81063",
   "metadata": {},
   "source": [
    "By enriching the previous data, this gives:"
   ]
  },
  {
   "cell_type": "markdown",
   "id": "660e273a-9c9d-48d3-8894-d1f4d998d6b9",
   "metadata": {},
   "source": [
    "We can check that the geolocation is not too off by comparing it with the longitudes and latitudes of the education directory added earlier:"
   ]
  },
  {
   "cell_type": "markdown",
   "id": "1bf9fd73-02f6-4819-bb72-47107a4b6c53",
   "metadata": {},
   "source": [
    "Without going into detail, the positions seem very similar, with only minor inaccuracies.\n",
    "\n",
    "To make use of our enriched data, we can create a map. To add some context to it, we can place a background map of the municipalities. This can be retrieved using `cartiflette`:"
   ]
  },
  {
   "cell_type": "code",
   "execution_count": null,
   "id": "carti-download",
   "metadata": {},
   "outputs": [
    {
     "name": "stdout",
     "output_type": "stream",
     "text": [
      "This is an experimental version of cartiflette published on PyPi.\n",
      "To use the latest stable version, you can install it directly from GitHub with the following command:\n",
      "pip install git+https://github.com/inseeFrLab/cartiflette.git"
     ]
    }
   ],
   "source": [
    "from cartiflette import carti_download\n",
    "shp_communes = carti_download(\n",
    "  crs = 4326,\n",
    "  values = [\"31\"],\n",
    "  borders=\"COMMUNE\",\n",
    "  vectorfile_format=\"topojson\",\n",
    "  filter_by=\"DEPARTEMENT\",\n",
    "  source=\"EXPRESS-COG-CARTO-TERRITOIRE\",\n",
    "  year=2022\n",
    ")\n",
    "shp_communes.crs = 4326"
   ]
  },
  {
   "cell_type": "markdown",
   "id": "22a5cc13-2c40-4f56-9e36-2a813267c319",
   "metadata": {},
   "source": [
    "Represented on a map, this gives the following map:"
   ]
  },
  {
   "cell_type": "markdown",
   "id": "617090a5-0333-4be2-b965-f162c47e7a10",
   "metadata": {},
   "source": [
    "# 5. Managing Secrets and Exceptions\n",
    "\n",
    "We have already used several APIs. However, these APIs were all without authentication and had few restrictions, except for the number of calls. This is not the case for all APIs. It is common for APIs that allow access to more data or confidential information to require authentication to track data users.\n",
    "\n",
    "This is usually done through a *token*. A token is a kind of password often used in modern authentication systems to certify a user’s identity (see [Git chapter](../../content/git/introgit.qmd)).\n",
    "\n",
    "To illustrate the use of *tokens*, we will use an API from the INPI (National Institute of Intellectual Property). The APIs developed by this organization require authentication. We will use this API to retrieve PDF documents from corporate financial statements.\n",
    "\n",
    "Before diving into this, we will take a detour to discuss token confidentiality and how to avoid exposing tokens in your code.\n",
    "\n",
    "## 5.1 Using a Token in Code Without Revealing It\n",
    "\n",
    "Tokens are personal information that should not be shared. They are not meant to be present in the code. As mentioned multiple times in the [production deployment course](https://ensae-reproductibilite.github.io/website/) taught by Romain Avouac and myself in the third year, it is crucial to separate the code from configuration elements.\n",
    "\n",
    "![](https://inseefrlab.github.io/formation-bonnes-pratiques-git-R/slides/img/environment_clean.png)\n",
    "\n",
    "The idea is to find a way to include configuration elements with the code without exposing them directly in the code. The general approach is to store the token value in a variable without revealing it in the code. How can we declare the token value without making it visible in the code?\n",
    "\n",
    "-   For interactive code (e.g., via a *notebook*), it is possible to create a dialog box that injects the provided value into a variable. This can be done using the `getpass` package.\n",
    "-   For non-interactive code, such as command-line scripts, the environment variable approach is the most reliable, provided you are careful not to include the password file in `Git`.\n",
    "\n",
    "The following exercise will demonstrate these two methods. These methods will help us confidentially add a *payload* to authentication requests, i.e., confidential identifying information as part of a request.\n",
    "\n",
    "## 5.2 Application\n",
    "\n",
    "For this application, starting from question 4, we will need to create a special class that allows `requests` to override our request with an authentication token. Since it is not trivial to create without prior knowledge, here it is:"
   ]
  },
  {
   "cell_type": "code",
   "execution_count": null,
   "id": "bearer-token",
   "metadata": {},
   "outputs": [],
   "source": [
    "class BearerAuth(requests.auth.AuthBase):\n",
    "    def __init__(self, token):\n",
    "        self.token = token\n",
    "    def __call__(self, r):\n",
    "        r.headers[\"authorization\"] = \"Bearer \" + self.token\n",
    "        return r"
   ]
  },
  {
   "cell_type": "markdown",
   "id": "6c723130-bdca-4748-806d-778504d065c1",
   "metadata": {},
   "source": [
    "We will also need this variable, which corresponds to Decathlon’s Siren."
   ]
  },
  {
   "cell_type": "code",
   "execution_count": null,
   "id": "ccb7b2a5",
   "metadata": {},
   "outputs": [],
   "source": [
    "siren = \"500569405\""
   ]
  },
  {
   "cell_type": "markdown",
   "id": "85e8c636-c09d-49a2-a56c-c744706a575b",
   "metadata": {},
   "source": [
    "> **Exercise 4: Adding a *payload* to a request**\n",
    ">\n",
    "> 1.  Create an account for the INPI API (National Institute of Intellectual Property), which we will use to retrieve financial statements of companies in PDF format.\n",
    "> 2.  Create the `username` and `password` variables using `getpass`, ensuring the values are not hardcoded.\n",
    "> 3.  Using the [API documentation](https://www.inpi.fr/sites/default/files/documentation%20technique%20API_comptes_annuels%20v4_0.pdf) and the `json` argument of `requests.post`, retrieve an authentication token and store it in a variable `token`.\n",
    "> 4.  Retrieve the data using the *f-string* `f'https://registre-national-entreprises.inpi.fr/api/companies/{siren}/attachments'` and provide `requests` with the argument `auth=BearerAuth(token)`.\n",
    "> 5.  Create `identifier = documents.get('bilans')[0]['id']` and use `requests` with the URL `f'https://registre-national-entreprises.inpi.fr/api/bilans/{identifier}/download'`, without arguments, to retrieve a PDF. Did it work? Check the *status code*. What does it mean? How can this be avoided?\n",
    "> 6.  Assuming the `requests.get` object created is named `r`, write the API output to a PDF as follows:\n",
    ">\n",
    "> ``` python\n",
    "> binary_file_path = 'decathlon.pdf'\n",
    "> with open(binary_file_path, 'wb') as f:\n",
    ">     f.write(r.content)\n",
    "> ```\n",
    ">\n",
    "> 1.  Replace the use of `getpass` with the environment variable approach using [`dotenv`](https://pypi.org/project/python-dotenv/).\n",
    "\n",
    "For question 5, without an identifier, we get the error code 401, which corresponds to *“Unauthorized”*, meaning the request is denied. However, if we add the token as before, everything works fine, and we retrieve Decathlon’s financial statement."
   ]
  },
  {
   "cell_type": "raw",
   "id": "eff4bee9-0e6e-4a2b-9676-9becb03a547e",
   "metadata": {},
   "source": [
    "<details>"
   ]
  },
  {
   "cell_type": "raw",
   "id": "3905b0a7-3335-43b8-bae2-b67f4c674766",
   "metadata": {},
   "source": [
    "<summary>"
   ]
  },
  {
   "cell_type": "markdown",
   "id": "76eca212-dffc-4455-a3a4-c974becd8af1",
   "metadata": {},
   "source": [
    "The retrieved PDF"
   ]
  },
  {
   "cell_type": "raw",
   "id": "8ce882e6-746f-4fdd-ac0e-1d77ccb286a5",
   "metadata": {},
   "source": [
    "</summary>"
   ]
  },
  {
   "cell_type": "raw",
   "id": "1e8a19fe-6cd5-42ea-b809-47c3d4c7870a",
   "metadata": {},
   "source": [
    "</details>"
   ]
  },
  {
   "cell_type": "markdown",
   "id": "b63af543-f126-48dc-b49e-bda8afa4945c",
   "metadata": {},
   "source": [
    "> **Important**\n",
    ">\n",
    "> The environment variable approach is the most general and flexible. However, it is crucial to ensure that the `.env` file storing the credentials is not added to `Git`. Otherwise, you risk exposing identifying information, which negates any benefits of the good practices implemented with `dotenv`.\n",
    ">\n",
    "> The solution is simple: add the `.env` line to `.gitignore` and, for extra safety, include `*.env` in case the file is not at the root of the repository. To learn more about the `.gitignore` file, refer to the [Git chapters](../../content/git/index.qmd).\n",
    "\n",
    "# 6. Opening Up to Model APIs\n",
    "\n",
    "So far, we have explored data APIs, which allow us to retrieve data. However, this is not the only interesting use case for APIs among `Python` users.\n",
    "\n",
    "There are many other types of APIs, and model APIs are particularly noteworthy. They allow access to pre-trained models or even perform inference on specialized servers with more resources than a local computer (more details in the *machine learning* and NLP sections). The most well-known library in this field is the [`transformers`](https://pypi.org/project/transformers/) library developed by `HuggingFace`.\n",
    "\n",
    "One of the objectives of the [3rd-year production deployment course](https://ensae-reproductibilite.github.io/website/) is to demonstrate how this type of software architecture works and how it can be implemented for models you have created yourself.\n",
    "\n",
    "# 7. Additional Exercises: et si on ajoutait des informations sur la valeur ajoutée des lycées ?\n",
    "\n",
    "> **Bonus Exercise**\n",
    ">\n",
    "> In our example on schools, limit the scope to high schools and add information on the added value of high schools available [here](https://data.education.gouv.fr/explore/dataset/fr-en-indicateurs-de-resultat-des-lycees-denseignement-general-et-technologique/table/?sort=-annee).\n",
    "\n",
    "> **Bonus Exercise 2: Where are we going out tonight?**\n",
    ">\n",
    "> Finding a common place to meet friends is always a subject of tough negotiations. What if we let geography guide us?\n",
    ">\n",
    "> 1.  Create a `DataFrame` recording a series of addresses and postal codes, like the example below.\n",
    "> 2.  Adapt the code from the exercise on the BAN API, using its documentation, to geolocate these addresses.\n",
    "> 3.  Assuming your geolocated data is named `adresses_geocoded`, use the proposed code to transform them into a polygon.\n",
    "> 4.  Calculate the centroid and display it on an interactive `Folium` map as before.\n",
    ">\n",
    "> You forgot there’s a couple in the group… Take into account the `poids` variable to calculate the barycenter and find out where to meet tonight.\n",
    ">\n",
    "> <details>\n",
    ">\n",
    "> <summary>\n",
    ">\n",
    "> Create the polygon from the geolocations\n",
    ">\n",
    "> </summary>\n",
    ">\n",
    "> ``` python\n",
    "> from shapely.geom\n",
    "> etry import Polygon\n",
    "> coordinates = list(zip(adresses_geocoded['longitude'], adresses_geocoded['latitude']))\n",
    "> polygon = Polygon(coordinates)\n",
    ">\n",
    "> polygon = gpd.GeoDataFrame(index=[0], crs='epsg:4326', geometry=[polygon])\n",
    "> polygon\n",
    "> ```\n",
    ">\n",
    "> </details>\n",
    "\n",
    "The example DataFrame:"
   ]
  },
  {
   "cell_type": "code",
   "execution_count": null,
   "id": "752108cf",
   "metadata": {},
   "outputs": [
    {
     "data": {
      "text/html": [
       "\n",
       "</div>"
      ]
     },
     "metadata": {},
     "output_type": "display_data"
    }
   ],
   "source": [
    "adresses_text = pd.DataFrame(\n",
    "  {\n",
    "    \"adresse\": [\n",
    "        \"10 Rue de Rivoli\",\n",
    "        \"15 Boulevard Saint-Michel\",\n",
    "        \"8 Rue Saint-Honoré\",\n",
    "        \"20 Avenue des Champs-Élysées\",\n",
    "        \"Place de la Bastille\",\n",
    "    ],\n",
    "    \"cp\": [\"75004\", \"75005\", \"75001\", \"75008\", \"75011\"],\n",
    "    \"poids\": [2, 1, 1, 1, 1]\n",
    "})\n",
    "adresses_text"
   ]
  },
  {
   "cell_type": "markdown",
   "id": "0eb97af0-c796-41f0-821c-315cd1725f31",
   "metadata": {},
   "source": [
    "The geolocation obtained for this example\n",
    "\n",
    "Here is the map obtained from the example dataset. We might stay drier with the barycenter than with the centroid."
   ]
  },
  {
   "cell_type": "raw",
   "id": "698e8bfc-0ac5-4b0b-9343-069bb0b1341b",
   "metadata": {},
   "source": [
    "<!----------\n",
    "API interactive example\n",
    "---------->"
   ]
  }
 ],
 "metadata": {
  "kernelspec": {
   "display_name": "Python 3 (ipykernel)",
   "language": "python",
   "name": "python3",
   "path": "/home/runner/work/python-datascientist/python-datascientist/.venv/share/jupyter/kernels/python3"
  },
  "language_info": {
   "codemirror_mode": {
    "name": "ipython",
    "version": "3"
   },
   "file_extension": ".py",
   "mimetype": "text/x-python",
   "name": "python",
   "nbconvert_exporter": "python",
   "pygments_lexer": "ipython3",
   "version": "3.12.3"
  },
  "widgets": {
   "application/vnd.jupyter.widget-state+json": {
    "state": {
     "1bff7526071342b1af997a39e3ed4cad": {
      "model_module": "@jupyter-widgets/controls",
      "model_module_version": "2.0.0",
      "model_name": "ProgressStyleModel",
      "state": {
       "_model_module": "@jupyter-widgets/controls",
       "_model_module_version": "2.0.0",
       "_model_name": "ProgressStyleModel",
       "_view_count": null,
       "_view_module": "@jupyter-widgets/base",
       "_view_module_version": "2.0.0",
       "_view_name": "StyleView",
       "bar_color": "black",
       "description_width": ""
      }
     },
     "c6a997e423654752a15103da7cc605d8": {
      "model_module": "@jupyter-widgets/base",
      "model_module_version": "2.0.0",
      "model_name": "LayoutModel",
      "state": {
       "_model_module": "@jupyter-widgets/base",
       "_model_module_version": "2.0.0",
       "_model_name": "LayoutModel",
       "_view_count": null,
       "_view_module": "@jupyter-widgets/base",
       "_view_module_version": "2.0.0",
       "_view_name": "LayoutView",
       "align_content": null,
       "align_items": null,
       "align_self": null,
       "border_bottom": null,
       "border_left": null,
       "border_right": null,
       "border_top": null,
       "bottom": null,
       "display": null,
       "flex": null,
       "flex_flow": null,
       "grid_area": null,
       "grid_auto_columns": null,
       "grid_auto_flow": null,
       "grid_auto_rows": null,
       "grid_column": null,
       "grid_gap": null,
       "grid_row": null,
       "grid_template_areas": null,
       "grid_template_columns": null,
       "grid_template_rows": null,
       "height": null,
       "justify_content": null,
       "justify_items": null,
       "left": null,
       "margin": null,
       "max_height": null,
       "max_width": null,
       "min_height": null,
       "min_width": null,
       "object_fit": null,
       "object_position": null,
       "order": null,
       "overflow": null,
       "padding": null,
       "right": null,
       "top": null,
       "visibility": null,
       "width": "auto"
      }
     },
     "f8b5518ee44543919ac86d95825aeba1": {
      "model_module": "@jupyter-widgets/controls",
      "model_module_version": "2.0.0",
      "model_name": "FloatProgressModel",
      "state": {
       "_dom_classes": [],
       "_model_module": "@jupyter-widgets/controls",
       "_model_module_version": "2.0.0",
       "_model_name": "FloatProgressModel",
       "_view_count": null,
       "_view_module": "@jupyter-widgets/controls",
       "_view_module_version": "2.0.0",
       "_view_name": "ProgressView",
       "bar_style": "",
       "description": "",
       "description_allow_html": false,
       "layout": "IPY_MODEL_c6a997e423654752a15103da7cc605d8",
       "max": 100,
       "min": 0,
       "orientation": "horizontal",
       "style": "IPY_MODEL_1bff7526071342b1af997a39e3ed4cad",
       "tabbable": null,
       "tooltip": null,
       "value": 100
      }
     }
    },
    "version_major": 2,
    "version_minor": 0
   }
  }
 },
 "nbformat": 4,
 "nbformat_minor": 5
}

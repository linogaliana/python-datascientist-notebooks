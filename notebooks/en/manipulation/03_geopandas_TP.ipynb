{
 "cells": [
  {
   "cell_type": "markdown",
   "id": "b237eed7-2ff5-4bd1-96e4-615d6513a8d8",
   "metadata": {},
   "source": [
    "# Pratique de geopandas avec les données vélib\n",
    "\n",
    "Lino Galiana  \n",
    "2025-10-07\n",
    "\n",
    "La partie `GeoPandas` a évolué récemment. Vous pouvez retrouver les contenus liés à `GeoPandas` dans le chapitre suivant (éléments magistraux et exercices):\n",
    "\n",
    "-   [Introduction aux données spatiales avec `Geopandas`](../../content/manipulation/03_geopandas_intro.qmd)"
   ]
  }
 ],
 "metadata": {
  "kernelspec": {
   "display_name": "Python 3",
   "language": "python",
   "name": "python3"
  }
 },
 "nbformat": 4,
 "nbformat_minor": 5
}

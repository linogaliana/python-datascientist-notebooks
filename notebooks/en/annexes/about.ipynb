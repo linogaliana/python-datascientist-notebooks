{
 "cells": [
  {
   "cell_type": "markdown",
   "id": "9aff9d49-1b66-4766-937c-433e16b5866f",
   "metadata": {},
   "source": [
    "# A propos de ce site\n",
    "\n",
    "Lino Galiana  \n",
    "2025-10-07\n",
    "\n",
    "Course website [*Python for Data Science*](https://www.ensae.fr/courses/1425-python-pour-le-data-scientist)\n",
    "<a href=\"https://github.com/linogaliana/python-datascientist\" class=\"github\"><i class=\"fab fa-python\"></i></a>, an introduction to `Python` for the second year of the engineering curriculum at [`ENSAE`](https://www.ensae.fr/) (Master 1).\n",
    "\n",
    "<br>\n",
    "\n",
    "All content of this group is freely available here or on [`Github`](https://github.com/linogaliana/python-datascientist)\n",
    "<a href=\"https://github.com/linogaliana/python-datascientist\" class=\"github\"><i class=\"fab fa-github\"></i></a> and can be tested in the form of `Jupyter` notebooks.\n",
    "\n",
    "<br>"
   ]
  },
  {
   "cell_type": "raw",
   "id": "d5c3bf59-0c2a-4d21-8b07-343104cbc462",
   "metadata": {},
   "source": [
    "<details>"
   ]
  },
  {
   "cell_type": "raw",
   "id": "41cfb551-9c0a-454b-8206-806d77f67550",
   "metadata": {},
   "source": [
    "<summary>"
   ]
  },
  {
   "cell_type": "markdown",
   "id": "27a469de-128b-4cd0-8598-1910835ef9b4",
   "metadata": {},
   "source": [
    "Example with the introduction to `Pandas`"
   ]
  },
  {
   "cell_type": "raw",
   "id": "0336b860-2c47-48ef-a993-9009c4cd4cb6",
   "metadata": {},
   "source": [
    "</summary>"
   ]
  },
  {
   "cell_type": "raw",
   "id": "8df92bdd-145a-4a33-8f3d-36998a96263a",
   "metadata": {},
   "source": [
    "</details>"
   ]
  },
  {
   "cell_type": "raw",
   "id": "62838989-8d5d-4f39-8033-b9f90a0a7cc1",
   "metadata": {},
   "source": [
    "<details>"
   ]
  },
  {
   "cell_type": "raw",
   "id": "6df37b81-cf5e-46f0-9d07-035ce497d876",
   "metadata": {},
   "source": [
    "<summary>"
   ]
  },
  {
   "cell_type": "markdown",
   "id": "3073a90e-afe8-46ab-82c8-a1c40d832b2f",
   "metadata": {},
   "source": [
    "On the agenda:"
   ]
  },
  {
   "cell_type": "raw",
   "id": "8d2b62dd-a6ea-4c56-ada1-d12e486d1f9d",
   "metadata": {},
   "source": [
    "</summary>"
   ]
  },
  {
   "cell_type": "markdown",
   "id": "c9090382-5ed6-4531-a58d-f4ca435a0d79",
   "metadata": {},
   "source": [
    "Overall, this course offers a comprehensive content that can satisfy both beginners in data science and those looking for more advanced material:\n",
    "<br>\n",
    "\n",
    "1.  **Data Manipulation**: standard data manipulation (`Pandas`), geographic data (`Geopandas`), data retrieval (web scraping, APIs)…\n",
    "2.  **Data Visualization**: classic visualizations (`Matplotlib`, `Seaborn`), cartography, reactive visualizations (`Plotly`, `Folium`)\n",
    "3.  **Modeling**: machine learning (`Scikit`), econometrics\n",
    "4.  **Text Data Processing** (NLP): introduction to tokenization with `NLTK` and `SpaCy`, modeling…\n",
    "5.  **Introduction to Modern Data Science**: cloud computing, `ElasticSearch`, continuous integration…\n",
    "\n",
    "All content on this site relies on open data, whether it is French data (mainly from the central platform [`data.gouv`](https://www.data.gouv.fr) or the Insee website) or American data. The program is presented linearly at the top of this page (👆️) or in a disordered manner below (👇️).\n",
    "\n",
    "A good complement to the website content is the course given with Romain Avouac in the final year at ENSAE, which focuses more on the production of data science projects: [https://ensae-reproductibilite.github.io/](https://ensae-reproductibilite.github.io/website/)"
   ]
  },
  {
   "cell_type": "raw",
   "id": "a0f6639f-976c-4833-afe8-77186492c326",
   "metadata": {},
   "source": [
    "</details>"
   ]
  },
  {
   "cell_type": "markdown",
   "id": "5e522c14-88b3-415e-8ba5-66bdd0fac0a6",
   "metadata": {},
   "source": [
    ":::::\n",
    "\n",
    "![](https://minio.lab.sspcloud.fr/lgaliana/generative-art/pythonds/kiddos.png)\n",
    "\n",
    "::::\n",
    "\n",
    ":::"
   ]
  }
 ],
 "metadata": {
  "kernelspec": {
   "display_name": "Python 3",
   "language": "python",
   "name": "python3"
  }
 },
 "nbformat": 4,
 "nbformat_minor": 5
}

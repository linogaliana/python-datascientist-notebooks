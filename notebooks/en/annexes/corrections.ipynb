{
 "cells": [
  {
   "cell_type": "markdown",
   "id": "c085af2e-0856-40ea-ac2f-bc3437882dbc",
   "metadata": {},
   "source": [
    "# Corrections\n",
    "\n",
    "Lino Galiana  \n",
    "2025-10-07"
   ]
  }
 ],
 "metadata": {
  "kernelspec": {
   "display_name": "Python 3",
   "language": "python",
   "name": "python3"
  }
 },
 "nbformat": 4,
 "nbformat_minor": 5
}
